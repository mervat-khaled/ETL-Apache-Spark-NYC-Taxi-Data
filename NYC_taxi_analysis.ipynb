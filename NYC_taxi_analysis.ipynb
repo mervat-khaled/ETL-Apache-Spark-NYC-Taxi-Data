{
 "cells": [
  {
   "cell_type": "code",
   "execution_count": 1,
   "id": "9dacdac0-b5cc-4c3a-8037-b99ca0f0c704",
   "metadata": {},
   "outputs": [],
   "source": [
    "from pyspark.sql import SparkSession\n",
    "\n",
    "spark = SparkSession \\\n",
    "    .builder \\\n",
    "    .config(\"spark.dynamicAllocation.enabled\", \"false\")\\\n",
    "    .config(\"spark.sql.adaptive.enabled\", \"false\")\\\n",
    "    .config(\"spark.serializer\", \"org.apache.spark.serializer.KryoSerializer\") \\\n",
    "    .appName(\"NYC TAXI ANALYSIS\") \\\n",
    "    .master(\"local[4]\")\\\n",
    "    .getOrCreate()"
   ]
  },
  {
   "cell_type": "code",
   "execution_count": 2,
   "id": "538174fe-ef2a-4ffe-8ecd-fe9b3f7d4f3e",
   "metadata": {},
   "outputs": [
    {
     "data": {
      "text/html": [
       "\n",
       "            <div>\n",
       "                <p><b>SparkSession - in-memory</b></p>\n",
       "                \n",
       "        <div>\n",
       "            <p><b>SparkContext</b></p>\n",
       "\n",
       "            <p><a href=\"http://58e5856f1ece:4040\">Spark UI</a></p>\n",
       "\n",
       "            <dl>\n",
       "              <dt>Version</dt>\n",
       "                <dd><code>v3.5.0</code></dd>\n",
       "              <dt>Master</dt>\n",
       "                <dd><code>local[4]</code></dd>\n",
       "              <dt>AppName</dt>\n",
       "                <dd><code>NYC TAXI ANALYSIS</code></dd>\n",
       "            </dl>\n",
       "        </div>\n",
       "        \n",
       "            </div>\n",
       "        "
      ],
      "text/plain": [
       "<pyspark.sql.session.SparkSession at 0x7fd350920790>"
      ]
     },
     "execution_count": 2,
     "metadata": {},
     "output_type": "execute_result"
    }
   ],
   "source": [
    "spark"
   ]
  },
  {
   "cell_type": "code",
   "execution_count": 3,
   "id": "cc892b4b-debe-4ee0-84cd-a833a15bed60",
   "metadata": {},
   "outputs": [
    {
     "name": "stdout",
     "output_type": "stream",
     "text": [
      "Partitions = 4\n",
      "Record Count = 109679\n"
     ]
    }
   ],
   "source": [
    "",
    "taxi_DF = (\n",
    "                  spark\n",
    "                    .read \n",
    "                    .option(\"header\",True)\n",
    "                    .option(\"inferschema\",True)\n",
    "                    .csv(\"file:/home/jovyan/work/advanced_big_data/projects/ETL/marged_taxiData2.csv/\")\n",
    "              )\n",
    "\n",
    "# Check number of partitions\n",
    "print(\"Partitions = \"    + str( taxi_DF.rdd.getNumPartitions() ))\n",
    "\n",
    "# Check number of records\n",
    "print(\"Record Count = \"  + str( taxi_DF.count() ))"
   ]
  },
  {
   "cell_type": "code",
   "execution_count": 4,
   "id": "50710416-d2cb-4aef-a838-1d200bac7bf5",
   "metadata": {},
   "outputs": [
    {
     "data": {
      "text/plain": [
       "['medallion',\n",
       " 'rate_code',\n",
       " 'pickup_datetime',\n",
       " 'dropoff_datetime',\n",
       " 'passenger_count',\n",
       " 'trip_time_in_secs',\n",
       " 'trip_distance',\n",
       " 'pickUp_date_MilliS',\n",
       " 'dropOff_date_MilliS',\n",
       " 'duration',\n",
       " 'duration_ByMin',\n",
       " 'borough_area_code',\n",
       " 'borough',\n",
       " 'pickup_borough',\n",
       " 'dropoff_borough']"
      ]
     },
     "execution_count": 4,
     "metadata": {},
     "output_type": "execute_result"
    }
   ],
   "source": [
    "taxi_DF.columns"
   ]
  },
  {
   "cell_type": "code",
   "execution_count": 5,
   "id": "4db4a61a-f71c-4724-b421-efcb7da71dd3",
   "metadata": {},
   "outputs": [
    {
     "name": "stdout",
     "output_type": "stream",
     "text": [
      "root\n",
      " |-- medallion: string (nullable = true)\n",
      " |-- rate_code: integer (nullable = true)\n",
      " |-- pickup_datetime: timestamp (nullable = true)\n",
      " |-- dropoff_datetime: timestamp (nullable = true)\n",
      " |-- passenger_count: integer (nullable = true)\n",
      " |-- trip_time_in_secs: integer (nullable = true)\n",
      " |-- trip_distance: double (nullable = true)\n",
      " |-- pickUp_date_MilliS: long (nullable = true)\n",
      " |-- dropOff_date_MilliS: long (nullable = true)\n",
      " |-- duration: integer (nullable = true)\n",
      " |-- duration_ByMin: double (nullable = true)\n",
      " |-- borough_area_code: integer (nullable = true)\n",
      " |-- borough: string (nullable = true)\n",
      " |-- pickup_borough: string (nullable = true)\n",
      " |-- dropoff_borough: string (nullable = true)\n",
      "\n"
     ]
    }
   ],
   "source": [
    "taxi_DF.printSchema()"
   ]
  },
  {
   "cell_type": "code",
   "execution_count": 6,
   "id": "bb853a5c-3b17-4024-9647-c6e40e255320",
   "metadata": {},
   "outputs": [],
   "source": [
    "from pyspark.sql.functions import spark_partition_id ,count, sum, avg, stddev_pop,max, min,asc,desc,col,round\n"
   ]
  },
  {
   "cell_type": "code",
   "execution_count": 7,
   "id": "33a905d8-5b64-4f6a-a052-0827e271acd0",
   "metadata": {},
   "outputs": [
    {
     "name": "stdout",
     "output_type": "stream",
     "text": [
      "+--------------------+-----+\n",
      "|SPARK_PARTITION_ID()|count|\n",
      "+--------------------+-----+\n",
      "|                   0|28322|\n",
      "|                   1|27470|\n",
      "|                   2|27293|\n",
      "|                   3|26594|\n",
      "+--------------------+-----+\n",
      "\n"
     ]
    }
   ],
   "source": [
    "taxi_DF.groupBy(spark_partition_id()).count().orderBy(\"spark_partition_id()\",ascending=True).show()"
   ]
  },
  {
   "cell_type": "code",
   "execution_count": 8,
   "id": "fc331a4e-13c2-4191-a82c-3aa29b359464",
   "metadata": {},
   "outputs": [],
   "source": [
    "def getDataFrameStats(dataFrame, columnName):\n",
    "\n",
    "    outputDF = (\n",
    "                    dataFrame\n",
    "\n",
    "                        # Get partition number for each record\n",
    "                        .withColumn(\"Partition Number\", spark_partition_id())\n",
    "        \n",
    "        \n",
    "                        # Group by partition, and calculate stats for a column\n",
    "                        .groupBy(\"Partition Number\")\n",
    "                        .agg(\n",
    "                                  count(\"*\").alias(\"Record Count\"),\n",
    "                                  min(columnName).alias(\"Min Column Value\"),\n",
    "                                  max(columnName).alias(\"Max Column Value\")\n",
    "                            )\n",
    "\n",
    "                        .orderBy(\"Partition Number\")\n",
    "               )\n",
    "\n",
    "    return outputDF"
   ]
  },
  {
   "cell_type": "code",
   "execution_count": 9,
   "id": "6623048b-479d-4aff-bf07-7639a22fe26e",
   "metadata": {},
   "outputs": [
    {
     "name": "stdout",
     "output_type": "stream",
     "text": [
      "+----------------+------------+----------------+----------------+\n",
      "|Partition Number|Record Count|Min Column Value|Max Column Value|\n",
      "+----------------+------------+----------------+----------------+\n",
      "|               0|       28322|               1|               5|\n",
      "|               1|       27470|               1|               5|\n",
      "|               2|       27293|               1|               5|\n",
      "|               3|       26594|               1|               5|\n",
      "+----------------+------------+----------------+----------------+\n",
      "\n"
     ]
    }
   ],
   "source": [
    "getDataFrameStats(taxi_DF,\"borough_area_code\").show()"
   ]
  },
  {
   "cell_type": "code",
   "execution_count": 14,
   "id": "f6d74f4a-3145-48d2-8984-9687f3eb7616",
   "metadata": {},
   "outputs": [
    {
     "name": "stdout",
     "output_type": "stream",
     "text": [
      "+--------------------+-------------------+-----+\n",
      "|           medallion|    pickup_datetime|count|\n",
      "+--------------------+-------------------+-----+\n",
      "|079E2EE80E3CFA17E...|2013-01-13 04:34:00|    2|\n",
      "|F2656117E0FEC6FA6...|2013-01-13 04:06:00|    2|\n",
      "|418E2E585E5369B5A...|2013-01-13 01:22:00|    2|\n",
      "|652979D8BB6F2409F...|2013-01-13 05:59:00|    2|\n",
      "|6F70168FE64F69314...|2013-01-13 04:52:00|    2|\n",
      "|19805AB6F3EC7675A...|2013-01-13 06:52:00|    2|\n",
      "|FED8DEEA16C86B89B...|2013-01-13 10:21:00|    2|\n",
      "|6E02AE5834F1FA04E...|2013-01-13 11:06:00|    2|\n",
      "|62099C3783738399C...|2013-01-13 04:36:00|    2|\n",
      "|7E3BF2C5869112F39...|2013-01-13 03:19:00|    2|\n",
      "+--------------------+-------------------+-----+\n",
      "only showing top 10 rows\n",
      "\n"
     ]
    }
   ],
   "source": [
    "# Check duplicates \n",
    "taxi_DF.groupby(\"medallion\", \"pickup_datetime\")\\\n",
    ".count()\\\n",
    ".filter(col('count') > 1).show(10)"
   ]
  },
  {
   "cell_type": "code",
   "execution_count": 26,
   "id": "a96bd81b-a992-4f61-ac59-c5e98f1bb530",
   "metadata": {},
   "outputs": [
    {
     "name": "stdout",
     "output_type": "stream",
     "text": [
      "Number of Duplicated Records: 11485\n"
     ]
    }
   ],
   "source": [
    "print(f\"\"\"Number of Duplicated Records: {taxi_DF.groupby('medallion', 'pickup_datetime').count().filter(col('count') > 1).count()}\"\"\")"
   ]
  },
  {
   "cell_type": "code",
   "execution_count": 27,
   "id": "f7c24006-e748-4c96-b22d-bc52ede7aa1b",
   "metadata": {},
   "outputs": [],
   "source": [
    "taxi_DF=taxi_DF.dropDuplicates(['medallion', 'pickup_datetime'])"
   ]
  },
  {
   "cell_type": "code",
   "execution_count": 29,
   "id": "01450d19-b071-43da-9ca6-d7ab58a8d3a3",
   "metadata": {},
   "outputs": [
    {
     "name": "stdout",
     "output_type": "stream",
     "text": [
      "+---------+---------------+-----+\n",
      "|medallion|pickup_datetime|count|\n",
      "+---------+---------------+-----+\n",
      "+---------+---------------+-----+\n",
      "\n"
     ]
    }
   ],
   "source": [
    "taxi_DF.groupby(\"medallion\", \"pickup_datetime\")\\\n",
    ".count()\\\n",
    ".filter(col('count') > 1).show()"
   ]
  },
  {
   "cell_type": "code",
   "execution_count": 30,
   "id": "913ab963-394a-40c8-a17d-2fb73985a845",
   "metadata": {},
   "outputs": [
    {
     "data": {
      "text/plain": [
       "98194"
      ]
     },
     "execution_count": 30,
     "metadata": {},
     "output_type": "execute_result"
    }
   ],
   "source": [
    "taxi_DF.count()"
   ]
  },
  {
   "cell_type": "code",
   "execution_count": 31,
   "id": "81ad457f-f0c7-4266-9984-d8c91a63fc90",
   "metadata": {},
   "outputs": [
    {
     "name": "stdout",
     "output_type": "stream",
     "text": [
      "+--------------+---------------+\n",
      "|pickup_borough|dropoff_borough|\n",
      "+--------------+---------------+\n",
      "|     Manhattan|      Manhattan|\n",
      "|     Manhattan|      Manhattan|\n",
      "|     Manhattan|      Manhattan|\n",
      "|     Manhattan|      Manhattan|\n",
      "|     Manhattan|      Manhattan|\n",
      "|     Manhattan|      Manhattan|\n",
      "|     Manhattan|      Manhattan|\n",
      "|     Manhattan|      Manhattan|\n",
      "|     Manhattan|      Manhattan|\n",
      "|     Manhattan|      Manhattan|\n",
      "|        Queens|         Queens|\n",
      "|     Manhattan|      Manhattan|\n",
      "|          NULL|         Queens|\n",
      "|     Manhattan|      Manhattan|\n",
      "|     Manhattan|      Manhattan|\n",
      "|     Manhattan|      Manhattan|\n",
      "|          NULL|       Brooklyn|\n",
      "|        Queens|           NULL|\n",
      "|     Manhattan|      Manhattan|\n",
      "|     Manhattan|      Manhattan|\n",
      "+--------------+---------------+\n",
      "only showing top 20 rows\n",
      "\n"
     ]
    }
   ],
   "source": [
    "taxi_DF.select(\"pickup_borough\",\"dropoff_borough\").show()"
   ]
  },
  {
   "cell_type": "markdown",
   "id": "7d36e226-4a28-4898-b483-3fa8a648f0c7",
   "metadata": {},
   "source": [
    "#### Fill null value in pickup_borough and dropoff_borough with \"unknown\""
   ]
  },
  {
   "cell_type": "code",
   "execution_count": 33,
   "id": "0cc6a013-e18b-4818-9594-052e57cfe8a9",
   "metadata": {},
   "outputs": [
    {
     "name": "stdout",
     "output_type": "stream",
     "text": [
      "+--------------+---------------+\n",
      "|pickup_borough|dropoff_borough|\n",
      "+--------------+---------------+\n",
      "|     Manhattan|      Manhattan|\n",
      "|     Manhattan|      Manhattan|\n",
      "|     Manhattan|      Manhattan|\n",
      "|     Manhattan|      Manhattan|\n",
      "|     Manhattan|      Manhattan|\n",
      "|     Manhattan|      Manhattan|\n",
      "|     Manhattan|      Manhattan|\n",
      "|     Manhattan|      Manhattan|\n",
      "|     Manhattan|      Manhattan|\n",
      "|     Manhattan|      Manhattan|\n",
      "|        Queens|         Queens|\n",
      "|     Manhattan|      Manhattan|\n",
      "|       Unknown|         Queens|\n",
      "|     Manhattan|      Manhattan|\n",
      "|     Manhattan|      Manhattan|\n",
      "|     Manhattan|      Manhattan|\n",
      "|       Unknown|       Brooklyn|\n",
      "|        Queens|        Unknown|\n",
      "|     Manhattan|      Manhattan|\n",
      "|     Manhattan|      Manhattan|\n",
      "+--------------+---------------+\n",
      "only showing top 20 rows\n",
      "\n"
     ]
    }
   ],
   "source": [
    "taxi_DF.na.fill(value=\"Unknown\",subset=[\"pickup_borough\",\"dropoff_borough\"]).select(\"pickup_borough\",\"dropoff_borough\").show()\n"
   ]
  },
  {
   "cell_type": "code",
   "execution_count": 34,
   "id": "d244f6f2-76b7-4d2d-be01-634f68bb9926",
   "metadata": {},
   "outputs": [],
   "source": [
    "taxi_DF=taxi_DF.na.fill(value=\"Unknown\",subset=[\"pickup_borough\",\"dropoff_borough\"])"
   ]
  },
  {
   "cell_type": "markdown",
   "id": "442595ca-148e-420b-83ee-074ca2b47c2b",
   "metadata": {},
   "source": [
    "# We need to compute:\n",
    "\n",
    " 1. The number of trips that started and ended within the same borough,\n",
    "\n",
    " 2.  The average time it takes for a taxi to find its next fare(trip) per destination borough,\n"
   ]
  },
  {
   "cell_type": "markdown",
   "id": "a4dd5eb7-7c42-46cc-86cc-4ee72b83211a",
   "metadata": {},
   "source": [
    "## 1- The number of trips that started and ended within the same borough,"
   ]
  },
  {
   "cell_type": "code",
   "execution_count": 35,
   "id": "98eca1d2-796f-4bbf-8097-b408804498e9",
   "metadata": {},
   "outputs": [],
   "source": [
    "taxi_DF.createOrReplaceTempView(\"NYCTable\")"
   ]
  },
  {
   "cell_type": "code",
   "execution_count": 36,
   "id": "4b62af72-9f32-4803-ad27-ce14c32d00db",
   "metadata": {},
   "outputs": [
    {
     "name": "stdout",
     "output_type": "stream",
     "text": [
      "+-------------+---------------+\n",
      "|      borough|Number_Of_Trips|\n",
      "+-------------+---------------+\n",
      "|    Manhattan|          83516|\n",
      "|       Queens|           1389|\n",
      "|     Brooklyn|           1065|\n",
      "|        Bronx|             51|\n",
      "|Staten Island|              1|\n",
      "+-------------+---------------+\n",
      "\n"
     ]
    }
   ],
   "source": [
    "spark.sql(\"\"\"\n",
    "SELECT borough, COUNT(*) AS Number_Of_Trips\n",
    "FROM NYCTable\n",
    "WHERE pickup_borough = dropoff_borough\n",
    "GROUP BY borough\n",
    "ORDER BY Number_Of_Trips DESC\n",
    "\n",
    "\"\"\").show()"
   ]
  },
  {
   "cell_type": "code",
   "execution_count": 37,
   "id": "23fbe0fc-3c5f-4d85-a6f0-4c2d76ae48f3",
   "metadata": {},
   "outputs": [],
   "source": [
    "firstQuery=spark.sql(\"\"\"\n",
    "SELECT borough, COUNT(*) AS Number_Of_Trips\n",
    "FROM NYCTable\n",
    "WHERE pickup_borough = dropoff_borough\n",
    "GROUP BY borough\n",
    "ORDER BY Number_Of_Trips DESC\n",
    "\n",
    "\"\"\").toPandas()"
   ]
  },
  {
   "cell_type": "code",
   "execution_count": 38,
   "id": "f3e2b130-bafc-44a2-9f50-a8d6842343a1",
   "metadata": {},
   "outputs": [
    {
     "data": {
      "text/plain": [
       "pandas.core.frame.DataFrame"
      ]
     },
     "execution_count": 38,
     "metadata": {},
     "output_type": "execute_result"
    }
   ],
   "source": [
    "type(firstQuery)"
   ]
  },
  {
   "cell_type": "code",
   "execution_count": 39,
   "id": "249f3dd5-1f82-4d10-8f9c-3a8e61108a2f",
   "metadata": {},
   "outputs": [
    {
     "data": {
      "text/html": [
       "<div>\n",
       "<style scoped>\n",
       "    .dataframe tbody tr th:only-of-type {\n",
       "        vertical-align: middle;\n",
       "    }\n",
       "\n",
       "    .dataframe tbody tr th {\n",
       "        vertical-align: top;\n",
       "    }\n",
       "\n",
       "    .dataframe thead th {\n",
       "        text-align: right;\n",
       "    }\n",
       "</style>\n",
       "<table border=\"1\" class=\"dataframe\">\n",
       "  <thead>\n",
       "    <tr style=\"text-align: right;\">\n",
       "      <th></th>\n",
       "      <th>borough</th>\n",
       "      <th>Number_Of_Trips</th>\n",
       "    </tr>\n",
       "  </thead>\n",
       "  <tbody>\n",
       "    <tr>\n",
       "      <th>0</th>\n",
       "      <td>Manhattan</td>\n",
       "      <td>83516</td>\n",
       "    </tr>\n",
       "    <tr>\n",
       "      <th>1</th>\n",
       "      <td>Queens</td>\n",
       "      <td>1389</td>\n",
       "    </tr>\n",
       "    <tr>\n",
       "      <th>2</th>\n",
       "      <td>Brooklyn</td>\n",
       "      <td>1065</td>\n",
       "    </tr>\n",
       "    <tr>\n",
       "      <th>3</th>\n",
       "      <td>Bronx</td>\n",
       "      <td>51</td>\n",
       "    </tr>\n",
       "    <tr>\n",
       "      <th>4</th>\n",
       "      <td>Staten Island</td>\n",
       "      <td>1</td>\n",
       "    </tr>\n",
       "  </tbody>\n",
       "</table>\n",
       "</div>"
      ],
      "text/plain": [
       "         borough  Number_Of_Trips\n",
       "0      Manhattan            83516\n",
       "1         Queens             1389\n",
       "2       Brooklyn             1065\n",
       "3          Bronx               51\n",
       "4  Staten Island                1"
      ]
     },
     "execution_count": 39,
     "metadata": {},
     "output_type": "execute_result"
    }
   ],
   "source": [
    "firstQuery"
   ]
  },
  {
   "cell_type": "code",
   "execution_count": 40,
   "id": "fb117d5e-be45-49c6-848c-481a54fed184",
   "metadata": {},
   "outputs": [],
   "source": [
    "import matplotlib.pyplot as plt\n",
    "import seaborn as sns "
   ]
  },
  {
   "cell_type": "code",
   "execution_count": 41,
   "id": "8dfa34a5-be1c-4d6c-924d-4d57bcfa0878",
   "metadata": {},
   "outputs": [],
   "source": [
    "def bar_plot(df,x=\"\",y=\"\",x_name=\"\",y_name=\"\",title=\"\"):\n",
    "        \n",
    "    plt.figure(figsize=(20,8))\n",
    "    sns.barplot(x=df[x],y=df[y])\n",
    "    plt.xlabel(x_name.upper())\n",
    "    plt.ylabel(y_name.upper())\n",
    "    plt.title(title.upper())\n",
    "    plt.xticks(rotation=50);"
   ]
  },
  {
   "cell_type": "code",
   "execution_count": 42,
   "id": "26468adf-94ef-4a30-9322-e27f91f3d52b",
   "metadata": {},
   "outputs": [
    {
     "data": {
      "image/png": "[encoded data removed]",
      "text/plain": [
       "<Figure size 2000x800 with 1 Axes>"
      ]
     },
     "metadata": {},
     "output_type": "display_data"
    }
   ],
   "source": [
    "bar_plot(firstQuery,\"borough\",\"Number_Of_Trips\",\n",
    "         \"borough\",\"number of trips\",\"The number of trips that started and ended within the same borough\")"
   ]
  },
  {
   "cell_type": "markdown",
   "id": "a9dccbc1-eebf-470c-98f0-4f179c8242c4",
   "metadata": {},
   "source": [
    "##  2.  The average time it takes for a taxi to find its next fare(trip) per destination borough."
   ]
  },
  {
   "cell_type": "markdown",
   "id": "f08b89c0-9305-43a9-b288-782b40310427",
   "metadata": {},
   "source": [
    "### First, we need to check out Unknown values."
   ]
  },
  {
   "cell_type": "code",
   "execution_count": 44,
   "id": "e2bd0f61-8b53-4927-a92e-077627dff144",
   "metadata": {},
   "outputs": [
    {
     "name": "stdout",
     "output_type": "stream",
     "text": [
      "+-----------------+\n",
      "|number_of_records|\n",
      "+-----------------+\n",
      "|            86022|\n",
      "+-----------------+\n",
      "\n"
     ]
    }
   ],
   "source": [
    "spark.sql(\"\"\"\n",
    "SELECT COUNT(*) AS number_of_records\n",
    "FROM NYCTable\n",
    "WHERE pickup_borough != \"Unknown\" AND dropoff_borough != \"Unknown\"\n",
    "\n",
    "\"\"\").show()"
   ]
  },
  {
   "cell_type": "code",
   "execution_count": 46,
   "id": "e7fe0a55-f905-42ab-8667-e5c15815fe3a",
   "metadata": {},
   "outputs": [
    {
     "name": "stdout",
     "output_type": "stream",
     "text": [
      "+--------+\n",
      "|count(1)|\n",
      "+--------+\n",
      "|   12172|\n",
      "+--------+\n",
      "\n"
     ]
    }
   ],
   "source": [
    "spark.sql(\"\"\"\n",
    "SELECT COUNT(*)\n",
    "FROM NYCTable\n",
    "WHERE pickup_borough = \"Unknown\" OR dropoff_borough = \"Unknown\"\n",
    "\"\"\").show()"
   ]
  },
  {
   "cell_type": "code",
   "execution_count": 47,
   "id": "5484563d-99f0-450c-a538-654aab1693fe",
   "metadata": {},
   "outputs": [
    {
     "name": "stdout",
     "output_type": "stream",
     "text": [
      "+--------+\n",
      "|count(1)|\n",
      "+--------+\n",
      "|    6411|\n",
      "+--------+\n",
      "\n"
     ]
    }
   ],
   "source": [
    "spark.sql(\"\"\"\n",
    "SELECT COUNT(*)\n",
    "FROM NYCTable\n",
    "WHERE pickup_borough = \"Unknown\" AND dropoff_borough != \"Unknown\"\n",
    "\"\"\").show()"
   ]
  },
  {
   "cell_type": "code",
   "execution_count": 48,
   "id": "e6bd791d-9f1c-4e05-8454-0d20633641a7",
   "metadata": {},
   "outputs": [],
   "source": [
    "filterOut_NulPickUp=spark.sql(\"\"\"\n",
    "SELECT *\n",
    "FROM NYCTable\n",
    "WHERE pickup_borough != \"Unknown\"\n",
    "\"\"\")"
   ]
  },
  {
   "cell_type": "code",
   "execution_count": 49,
   "id": "5bf0e5e6-9268-448b-b8fd-bfe5037162f7",
   "metadata": {},
   "outputs": [
    {
     "name": "stdout",
     "output_type": "stream",
     "text": [
      "+--------------------+---------+-------------------+-------------------+---------------+-----------------+-------------+------------------+-------------------+--------+--------------+-----------------+---------+--------------+---------------+\n",
      "|           medallion|rate_code|    pickup_datetime|   dropoff_datetime|passenger_count|trip_time_in_secs|trip_distance|pickUp_date_MilliS|dropOff_date_MilliS|duration|duration_ByMin|borough_area_code|  borough|pickup_borough|dropoff_borough|\n",
      "+--------------------+---------+-------------------+-------------------+---------------+-----------------+-------------+------------------+-------------------+--------+--------------+-----------------+---------+--------------+---------------+\n",
      "|002B4CFC5B8920A87...|        1|2013-01-13 17:14:00|2013-01-13 17:21:00|              1|              420|         1.54|     1358097240000|      1358097660000|  420000|           7.0|                1|Manhattan|     Manhattan|      Manhattan|\n",
      "|00D07524C1482FF5A...|        1|2013-01-13 15:15:00|2013-01-13 15:23:00|              1|              480|         1.43|     1358090100000|      1358090580000|  480000|           8.0|                1|Manhattan|     Manhattan|      Manhattan|\n",
      "+--------------------+---------+-------------------+-------------------+---------------+-----------------+-------------+------------------+-------------------+--------+--------------+-----------------+---------+--------------+---------------+\n",
      "only showing top 2 rows\n",
      "\n"
     ]
    }
   ],
   "source": [
    "filterOut_NulPickUp.show(2)"
   ]
  },
  {
   "cell_type": "code",
   "execution_count": 50,
   "id": "39725780-129f-4f66-a665-bfe4c0a93836",
   "metadata": {},
   "outputs": [],
   "source": [
    "filterOut_NulPickUp.createOrReplaceTempView(\"NYCTableWithoutNull\")"
   ]
  },
  {
   "cell_type": "code",
   "execution_count": 27,
   "id": "0bbf7d84-3bc2-4c96-b835-40e8baeb7492",
   "metadata": {},
   "outputs": [],
   "source": [
    "# spark.sql(\"\"\"\n",
    "# SELECT borough, COUNT(*) AS Number_Of_Trips\n",
    "# FROM NYCTable\n",
    "# WHERE pickup_borough IS NOT NULL  AND dropoff_borough IS NULL\n",
    "# GROUP BY borough\n",
    "# ORDER BY Number_Of_Trips DESC\n",
    "\n",
    "# \"\"\").show()"
   ]
  },
  {
   "cell_type": "code",
   "execution_count": null,
   "id": "e561bfa1-3cb6-4a33-9c5c-d1e9f758772a",
   "metadata": {},
   "outputs": [],
   "source": [
    "# SELECT \n",
    "#     first_name,\n",
    "#     last_name, \n",
    "#     department_name,\n",
    "#     hire_date, \n",
    "#     LEAD(hire_date, 1, 'Not Applicable') OVER (\n",
    "#         PARTITION by department_name\n",
    "#         ORDER BY hire_date\n",
    "#     ) AS hired_next_date"
   ]
  },
  {
   "cell_type": "code",
   "execution_count": 51,
   "id": "ee48cb3f-b7f0-4f2c-8521-53b3ce20eb61",
   "metadata": {},
   "outputs": [
    {
     "name": "stdout",
     "output_type": "stream",
     "text": [
      "+--------------------+--------------+---------------+-------------------+-------------------+\n",
      "|           medallion|pickup_borough|dropoff_borough|    pickup_datetime|NextPickup_datetime|\n",
      "+--------------------+--------------+---------------+-------------------+-------------------+\n",
      "|0F621E366CFE63044...|     Manhattan|      Manhattan|2013-01-13 04:31:00|2013-01-13 06:57:00|\n",
      "|0F621E366CFE63044...|     Manhattan|      Manhattan|2013-01-13 06:57:00|2013-01-13 07:11:00|\n",
      "|0F621E366CFE63044...|     Manhattan|      Manhattan|2013-01-13 07:11:00|2013-01-13 08:22:00|\n",
      "|0F621E366CFE63044...|     Manhattan|      Manhattan|2013-01-13 08:22:00|2013-01-13 09:29:00|\n",
      "|0F621E366CFE63044...|     Manhattan|      Manhattan|2013-01-13 09:29:00|2013-01-13 10:08:00|\n",
      "|0F621E366CFE63044...|     Manhattan|      Manhattan|2013-01-13 10:08:00|2013-01-13 10:35:00|\n",
      "|0F621E366CFE63044...|     Manhattan|      Manhattan|2013-01-13 10:35:00|2013-01-13 10:48:00|\n",
      "|0F621E366CFE63044...|     Manhattan|      Manhattan|2013-01-13 10:48:00|2013-01-13 11:01:00|\n",
      "|0F621E366CFE63044...|     Manhattan|      Manhattan|2013-01-13 11:01:00|2013-01-13 11:23:00|\n",
      "|0F621E366CFE63044...|     Manhattan|      Manhattan|2013-01-13 11:23:00|2013-01-13 11:32:00|\n",
      "+--------------------+--------------+---------------+-------------------+-------------------+\n",
      "only showing top 10 rows\n",
      "\n"
     ]
    }
   ],
   "source": [
    "spark.sql(\"\"\"\n",
    "SELECT medallion,pickup_borough, dropoff_borough, pickup_datetime,\n",
    "LEAD(pickup_datetime,1,'Not Applicable') OVER (PARTITION BY medallion ORDER BY pickup_datetime) AS NextPickup_datetime\n",
    "FROM NYCTableWithoutNull\n",
    "\n",
    "\"\"\").show(10)"
   ]
  },
  {
   "cell_type": "code",
   "execution_count": 52,
   "id": "793b826b-99d5-4f7a-8aec-9591a1c9efcb",
   "metadata": {},
   "outputs": [],
   "source": [
    "WindowFunctionFilteration=spark.sql(\"\"\"\n",
    "SELECT medallion,pickup_borough, dropoff_borough, pickup_datetime,\n",
    "LEAD(pickup_datetime,1,'Not Applicable') OVER (PARTITION BY medallion ORDER BY pickup_datetime) AS NextPickup_datetime\n",
    "FROM NYCTableWithoutNull\n",
    "\n",
    "\"\"\")"
   ]
  },
  {
   "cell_type": "code",
   "execution_count": 53,
   "id": "9cafaf3b-3070-4715-a5b4-39642bb151cc",
   "metadata": {},
   "outputs": [],
   "source": [
    "WindowFunctionFilteration.createOrReplaceTempView(\"WindowFunctionFilterTable\")"
   ]
  },
  {
   "cell_type": "code",
   "execution_count": 54,
   "id": "b0925a55-dfd5-40b7-8929-71c64e9db213",
   "metadata": {},
   "outputs": [
    {
     "name": "stdout",
     "output_type": "stream",
     "text": [
      "+--------+\n",
      "|count(1)|\n",
      "+--------+\n",
      "|   91783|\n",
      "+--------+\n",
      "\n"
     ]
    }
   ],
   "source": [
    "spark.sql(\"\"\"\n",
    "SELECT COUNT(*) FROM \n",
    "WindowFunctionFilterTable\n",
    "\"\"\").show()"
   ]
  },
  {
   "cell_type": "code",
   "execution_count": null,
   "id": "964cc11a-018e-4604-a06e-8eda72d8b29e",
   "metadata": {},
   "outputs": [],
   "source": []
  },
  {
   "cell_type": "code",
   "execution_count": 56,
   "id": "2face5c6-916d-47d5-a4ce-05518c5aa1d3",
   "metadata": {},
   "outputs": [
    {
     "name": "stdout",
     "output_type": "stream",
     "text": [
      "+--------------+---------------+-------------------+-------------------+----------------+--------------------+\n",
      "|pickup_borough|dropoff_borough|    pickup_datetime|NextPickup_datetime|pickup_byMinutes|NextPickup_byMinutes|\n",
      "+--------------+---------------+-------------------+-------------------+----------------+--------------------+\n",
      "|     Manhattan|      Manhattan|2013-01-13 04:31:00|2013-01-13 06:57:00|              31|                  57|\n",
      "|     Manhattan|      Manhattan|2013-01-13 06:57:00|2013-01-13 07:11:00|              57|                  11|\n",
      "|     Manhattan|      Manhattan|2013-01-13 07:11:00|2013-01-13 08:22:00|              11|                  22|\n",
      "|     Manhattan|      Manhattan|2013-01-13 08:22:00|2013-01-13 09:29:00|              22|                  29|\n",
      "|     Manhattan|      Manhattan|2013-01-13 09:29:00|2013-01-13 10:08:00|              29|                   8|\n",
      "|     Manhattan|      Manhattan|2013-01-13 10:08:00|2013-01-13 10:35:00|               8|                  35|\n",
      "|     Manhattan|      Manhattan|2013-01-13 10:35:00|2013-01-13 10:48:00|              35|                  48|\n",
      "|     Manhattan|      Manhattan|2013-01-13 10:48:00|2013-01-13 11:01:00|              48|                   1|\n",
      "|     Manhattan|      Manhattan|2013-01-13 11:01:00|2013-01-13 11:23:00|               1|                  23|\n",
      "|     Manhattan|      Manhattan|2013-01-13 11:23:00|2013-01-13 11:32:00|              23|                  32|\n",
      "|     Manhattan|      Manhattan|2013-01-13 11:32:00|2013-01-13 11:49:00|              32|                  49|\n",
      "|     Manhattan|      Manhattan|2013-01-13 11:49:00|2013-01-13 12:05:00|              49|                   5|\n",
      "|     Manhattan|      Manhattan|2013-01-13 12:05:00|2013-01-13 12:19:00|               5|                  19|\n",
      "|     Manhattan|      Manhattan|2013-01-13 12:19:00|2013-01-13 12:31:00|              19|                  31|\n",
      "|     Manhattan|      Manhattan|2013-01-13 12:31:00|2013-01-13 12:51:00|              31|                  51|\n",
      "|     Manhattan|      Manhattan|2013-01-13 12:51:00|2013-01-13 12:59:00|              51|                  59|\n",
      "|     Manhattan|      Manhattan|2013-01-13 12:59:00|2013-01-13 13:31:00|              59|                  31|\n",
      "|     Manhattan|      Manhattan|2013-01-13 13:31:00|2013-01-13 14:00:00|              31|                   0|\n",
      "|     Manhattan|      Manhattan|2013-01-13 14:00:00|2013-01-13 14:10:00|               0|                  10|\n",
      "|     Manhattan|      Manhattan|2013-01-13 14:10:00|2013-01-13 14:19:00|              10|                  19|\n",
      "+--------------+---------------+-------------------+-------------------+----------------+--------------------+\n",
      "only showing top 20 rows\n",
      "\n"
     ]
    }
   ],
   "source": [
    "spark.sql(\"\"\"\n",
    "SELECT pickup_borough, dropoff_borough,pickup_datetime, NextPickup_datetime,\n",
    "EXTRACT(MINUTE FROM pickup_datetime) AS pickup_byMinutes, EXTRACT(MINUTE FROM NextPickup_datetime) AS NextPickup_byMinutes\n",
    "FROM \n",
    "WindowFunctionFilterTable\n",
    "\"\"\").show()"
   ]
  },
  {
   "cell_type": "code",
   "execution_count": 57,
   "id": "112b4ba7-324b-4e92-be7e-fc4e4aab2827",
   "metadata": {},
   "outputs": [],
   "source": [
    "WindowFunctionFinalResult=spark.sql(\"\"\" SELECT medallion, pickup_borough, dropoff_borough,pickup_datetime, NextPickup_datetime,\n",
    "EXTRACT(MINUTE FROM pickup_datetime) AS pickup_byMinutes, EXTRACT(MINUTE FROM NextPickup_datetime) AS NextPickup_byMinutes\n",
    "FROM \n",
    "WindowFunctionFilterTable\n",
    "\"\"\")"
   ]
  },
  {
   "cell_type": "code",
   "execution_count": 58,
   "id": "bc634080-19e0-419f-9a88-2ff230f08ac8",
   "metadata": {},
   "outputs": [],
   "source": [
    "from pyspark.sql.functions import avg,col"
   ]
  },
  {
   "cell_type": "code",
   "execution_count": 59,
   "id": "19b00bf2-4249-4e29-ae71-671df48a7737",
   "metadata": {},
   "outputs": [
    {
     "name": "stdout",
     "output_type": "stream",
     "text": [
      "+--------------------+--------------+---------------+-------------------+-------------------+----------------+--------------------+--------+\n",
      "|           medallion|pickup_borough|dropoff_borough|    pickup_datetime|NextPickup_datetime|pickup_byMinutes|NextPickup_byMinutes|diff_min|\n",
      "+--------------------+--------------+---------------+-------------------+-------------------+----------------+--------------------+--------+\n",
      "|0F621E366CFE63044...|     Manhattan|      Manhattan|2013-01-13 04:31:00|2013-01-13 06:57:00|              31|                  57|      26|\n",
      "|0F621E366CFE63044...|     Manhattan|      Manhattan|2013-01-13 06:57:00|2013-01-13 07:11:00|              57|                  11|     -46|\n",
      "|0F621E366CFE63044...|     Manhattan|      Manhattan|2013-01-13 07:11:00|2013-01-13 08:22:00|              11|                  22|      11|\n",
      "|0F621E366CFE63044...|     Manhattan|      Manhattan|2013-01-13 08:22:00|2013-01-13 09:29:00|              22|                  29|       7|\n",
      "|0F621E366CFE63044...|     Manhattan|      Manhattan|2013-01-13 09:29:00|2013-01-13 10:08:00|              29|                   8|     -21|\n",
      "+--------------------+--------------+---------------+-------------------+-------------------+----------------+--------------------+--------+\n",
      "only showing top 5 rows\n",
      "\n"
     ]
    }
   ],
   "source": [
    "WindowFunctionFinalResult.withColumn(\"diff_min\", col(\"NextPickup_byMinutes\") - col(\"pickup_byMinutes\"))\\\n",
    ".show(5)\n"
   ]
  },
  {
   "cell_type": "code",
   "execution_count": 60,
   "id": "f04ccd9f-d1a2-4eb0-95bc-6b9801b205eb",
   "metadata": {},
   "outputs": [],
   "source": [
    "WindowFunctionFinalResult = WindowFunctionFinalResult.withColumn(\"diff_min\", col(\"NextPickup_byMinutes\") - col(\"pickup_byMinutes\"))\\\n",
    ".filter(col(\"diff_min\") > 0) "
   ]
  },
  {
   "cell_type": "code",
   "execution_count": 61,
   "id": "0d300b82-32b5-46cc-8431-18b711656722",
   "metadata": {},
   "outputs": [
    {
     "name": "stdout",
     "output_type": "stream",
     "text": [
      "+--------------+---------------+-------------+\n",
      "|pickup_borough|dropoff_borough|avg_wait_time|\n",
      "+--------------+---------------+-------------+\n",
      "|         Bronx|          Bronx|         13.0|\n",
      "|         Bronx|        Unknown|         21.0|\n",
      "|      Brooklyn|        Unknown|         23.0|\n",
      "|      Brooklyn|       Brooklyn|         19.0|\n",
      "|     Manhattan|        Unknown|         16.0|\n",
      "|     Manhattan|      Manhattan|         16.0|\n",
      "|        Queens|        Unknown|         24.0|\n",
      "|        Queens|         Queens|         19.0|\n",
      "| Staten Island|  Staten Island|         31.0|\n",
      "+--------------+---------------+-------------+\n",
      "\n"
     ]
    }
   ],
   "source": [
    "WindowFunctionFinalResult.groupBy(\"pickup_borough\",\"dropoff_borough\")\\\n",
    ".agg(round(avg(\"diff_min\")).alias(\"avg_wait_time\")).orderBy(\"pickup_borough\").show()"
   ]
  },
  {
   "cell_type": "code",
   "execution_count": null,
   "id": "b69c8724-da8d-438d-8616-adb423997f67",
   "metadata": {},
   "outputs": [],
   "source": []
  },
  {
   "cell_type": "code",
   "execution_count": 72,
   "id": "93988993-884b-418d-8422-0ce57dabc57e",
   "metadata": {},
   "outputs": [],
   "source": []
  },
  {
   "cell_type": "code",
   "execution_count": null,
   "id": "4b19dd00-35fe-495b-88fe-407665a5f82e",
   "metadata": {},
   "outputs": [],
   "source": []
  }
 ],
 "metadata": {
  "kernelspec": {
   "display_name": "Python 3 (ipykernel)",
   "language": "python",
   "name": "python3"
  },
  "language_info": {
   "codemirror_mode": {
    "name": "ipython",
    "version": 3
   },
   "file_extension": ".py",
   "mimetype": "text/x-python",
   "name": "python",
   "nbconvert_exporter": "python",
   "pygments_lexer": "ipython3",
   "version": "3.11.6"
  }
 },
 "nbformat": 4,
 "nbformat_minor": 5
}
