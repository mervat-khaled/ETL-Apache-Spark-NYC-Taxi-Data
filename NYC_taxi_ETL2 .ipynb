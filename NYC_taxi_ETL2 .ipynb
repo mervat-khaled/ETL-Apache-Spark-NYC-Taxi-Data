{
 "cells": [
  {
   "cell_type": "code",
   "execution_count": 115,
   "id": "1af04b9f-2725-4bfa-92d6-13bc41ba3121",
   "metadata": {},
   "outputs": [],
   "source": [
    "from pyspark.sql import SparkSession\n",
    "\n",
    "spark = SparkSession \\\n",
    "    .builder \\\n",
    "    .config(\"spark.dynamicAllocation.enabled\", \"false\")\\\n",
    "    .config(\"spark.sql.adaptive.enabled\", \"false\")\\\n",
    "    .config(\"spark.serializer\", \"org.apache.spark.serializer.KryoSerializer\") \\\n",
    "    .appName(\"NYC Taxi ETL2\") \\\n",
    "    .master(\"local[4]\")\\\n",
    "    .getOrCreate()"
   ]
  },
  {
   "cell_type": "code",
   "execution_count": 116,
   "id": "3bfc7684-c76a-488b-a3bf-96533a6963fe",
   "metadata": {},
   "outputs": [
    {
     "data": {
      "text/html": [
       "\n",
       "            <div>\n",
       "                <p><b>SparkSession - in-memory</b></p>\n",
       "                \n",
       "        <div>\n",
       "            <p><b>SparkContext</b></p>\n",
       "\n",
       "            <p><a href=\"http://58e5856f1ece:4040\">Spark UI</a></p>\n",
       "\n",
       "            <dl>\n",
       "              <dt>Version</dt>\n",
       "                <dd><code>v3.5.0</code></dd>\n",
       "              <dt>Master</dt>\n",
       "                <dd><code>local[4]</code></dd>\n",
       "              <dt>AppName</dt>\n",
       "                <dd><code>NYC Taxi ETL2</code></dd>\n",
       "            </dl>\n",
       "        </div>\n",
       "        \n",
       "            </div>\n",
       "        "
      ],
      "text/plain": [
       "<pyspark.sql.session.SparkSession at 0x7fe3f1a281d0>"
      ]
     },
     "execution_count": 116,
     "metadata": {},
     "output_type": "execute_result"
    }
   ],
   "source": [
    "spark"
   ]
  },
  {
   "cell_type": "code",
   "execution_count": 66,
   "id": "5f8357cb-3a60-44d6-8000-b07f0f19274b",
   "metadata": {},
   "outputs": [],
   "source": [
    "# spark.stop()"
   ]
  },
  {
   "cell_type": "code",
   "execution_count": 120,
   "id": "e6c7d375-05dd-4b13-ba24-154f040efa32",
   "metadata": {},
   "outputs": [
    {
     "name": "stdout",
     "output_type": "stream",
     "text": [
      "Partitions = 4\n",
      "Record Count = 99999\n"
     ]
    }
   ],
   "source": [
    "# Read Taxi Zones data\n",
    "taxi_data = (\n",
    "                  spark\n",
    "                    .read \n",
    "                    .option(\"header\",True)\n",
    "                    .option(\"inferschema\",True)\n",
    "                    .csv(\"file:/home/jovyan/work/advanced_big_data/projects/ETL/taxiData2.csv/\")\n",
    "              )\n",
    "\n",
    "# Check number of partitions\n",
    "print(\"Partitions = \"    + str( taxi_data.rdd.getNumPartitions() ))\n",
    "\n",
    "# Check number of records\n",
    "print(\"Record Count = \"  + str( taxi_data.count() ))"
   ]
  },
  {
   "cell_type": "code",
   "execution_count": 121,
   "id": "10a7050d-d442-4493-b464-666d8ac9fbb8",
   "metadata": {},
   "outputs": [
    {
     "data": {
      "text/plain": [
       "['medallion',\n",
       " 'hack_license',\n",
       " 'vendor_id',\n",
       " 'rate_code',\n",
       " 'pickup_datetime',\n",
       " 'dropoff_datetime',\n",
       " 'passenger_count',\n",
       " 'trip_time_in_secs',\n",
       " 'trip_distance',\n",
       " 'pickup_longitude',\n",
       " 'pickup_latitude',\n",
       " 'dropoff_longitude',\n",
       " 'dropoff_latitude',\n",
       " 'pickUp_date_MilliS',\n",
       " 'dropOff_date_MilliS',\n",
       " 'duration',\n",
       " 'duration_ByMin',\n",
       " 'pickup_point',\n",
       " 'dropoff_point']"
      ]
     },
     "execution_count": 121,
     "metadata": {},
     "output_type": "execute_result"
    }
   ],
   "source": [
    "taxi_data.columns"
   ]
  },
  {
   "cell_type": "code",
   "execution_count": 111,
   "id": "8a2a5c2a-b23f-4d33-b889-22f1053dcc7c",
   "metadata": {},
   "outputs": [],
   "source": []
  },
  {
   "cell_type": "code",
   "execution_count": 122,
   "id": "f83d1c21-c12a-43a8-99ec-caae09db0ef6",
   "metadata": {},
   "outputs": [
    {
     "name": "stdout",
     "output_type": "stream",
     "text": [
      "root\n",
      " |-- medallion: string (nullable = true)\n",
      " |-- hack_license: string (nullable = true)\n",
      " |-- vendor_id: string (nullable = true)\n",
      " |-- rate_code: integer (nullable = true)\n",
      " |-- pickup_datetime: timestamp (nullable = true)\n",
      " |-- dropoff_datetime: timestamp (nullable = true)\n",
      " |-- passenger_count: integer (nullable = true)\n",
      " |-- trip_time_in_secs: integer (nullable = true)\n",
      " |-- trip_distance: double (nullable = true)\n",
      " |-- pickup_longitude: double (nullable = true)\n",
      " |-- pickup_latitude: double (nullable = true)\n",
      " |-- dropoff_longitude: double (nullable = true)\n",
      " |-- dropoff_latitude: double (nullable = true)\n",
      " |-- pickUp_date_MilliS: long (nullable = true)\n",
      " |-- dropOff_date_MilliS: long (nullable = true)\n",
      " |-- duration: integer (nullable = true)\n",
      " |-- duration_ByMin: double (nullable = true)\n",
      " |-- pickup_point: string (nullable = true)\n",
      " |-- dropoff_point: string (nullable = true)\n",
      "\n"
     ]
    }
   ],
   "source": [
    "taxi_data.printSchema()"
   ]
  },
  {
   "cell_type": "code",
   "execution_count": 123,
   "id": "82d77c09-ab52-4d15-860a-812bccba3b8a",
   "metadata": {},
   "outputs": [
    {
     "data": {
      "text/plain": [
       "99999"
      ]
     },
     "execution_count": 123,
     "metadata": {},
     "output_type": "execute_result"
    }
   ],
   "source": [
    "taxi_data.count()"
   ]
  },
  {
   "cell_type": "code",
   "execution_count": null,
   "id": "3cec88bf-c209-48f5-b174-2c165fd20666",
   "metadata": {},
   "outputs": [],
   "source": []
  },
  {
   "cell_type": "code",
   "execution_count": 124,
   "id": "412cc0d3-a3fb-45c0-bf04-97389dbed647",
   "metadata": {},
   "outputs": [],
   "source": [
    "from pyspark.sql.functions import spark_partition_id"
   ]
  },
  {
   "cell_type": "code",
   "execution_count": 125,
   "id": "b2134474-5e70-4413-afc2-fc0860c3a7f3",
   "metadata": {},
   "outputs": [
    {
     "name": "stdout",
     "output_type": "stream",
     "text": [
      "+--------------------+-----+\n",
      "|SPARK_PARTITION_ID()|count|\n",
      "+--------------------+-----+\n",
      "|                   0|25259|\n",
      "|                   1|25267|\n",
      "|                   2|25286|\n",
      "|                   3|24187|\n",
      "+--------------------+-----+\n",
      "\n"
     ]
    }
   ],
   "source": [
    "taxi_data.groupBy(spark_partition_id()).count().orderBy(\"spark_partition_id()\",ascending=True).show()"
   ]
  },
  {
   "cell_type": "code",
   "execution_count": 73,
   "id": "6fe521c7-eeb4-4d19-9ea7-b71bea6e6288",
   "metadata": {},
   "outputs": [],
   "source": [
    "# from pyspark import StorageLevel"
   ]
  },
  {
   "cell_type": "code",
   "execution_count": 74,
   "id": "4304cb04-184e-4bd4-986f-dd2d6cb24485",
   "metadata": {},
   "outputs": [],
   "source": [
    "# taxi_data.persist(StorageLevel.MEMORY_AND_DISK)"
   ]
  },
  {
   "cell_type": "code",
   "execution_count": 127,
   "id": "5ce77018-4477-4245-be85-b3a224c8a245",
   "metadata": {},
   "outputs": [],
   "source": [
    "geoBorough_data=spark.read\\\n",
    ".option(\"header\",True)\\\n",
    ".option(\"inferschema\",True)\\\n",
    ".csv(\"file:/home/jovyan/work/advanced_big_data/projects/ETL/geoBoroughData2.csv/\")"
   ]
  },
  {
   "cell_type": "code",
   "execution_count": 128,
   "id": "55960c04-713c-4076-a888-1ed907e04b81",
   "metadata": {},
   "outputs": [
    {
     "data": {
      "text/plain": [
       "3"
      ]
     },
     "execution_count": 128,
     "metadata": {},
     "output_type": "execute_result"
    }
   ],
   "source": [
    "geoBorough_data.rdd.getNumPartitions()"
   ]
  },
  {
   "cell_type": "code",
   "execution_count": 129,
   "id": "ef6b9dbf-aac7-421c-9e1e-9ac1eda7d7fd",
   "metadata": {},
   "outputs": [
    {
     "name": "stdout",
     "output_type": "stream",
     "text": [
      "+--------------------+-----+\n",
      "|SPARK_PARTITION_ID()|count|\n",
      "+--------------------+-----+\n",
      "|                   0|   41|\n",
      "|                   1|   34|\n",
      "|                   2|   29|\n",
      "+--------------------+-----+\n",
      "\n"
     ]
    }
   ],
   "source": [
    "geoBorough_data.groupBy(spark_partition_id()).count().orderBy(\"spark_partition_id()\",ascending=True).show()"
   ]
  },
  {
   "cell_type": "code",
   "execution_count": 130,
   "id": "7bd30d6e-f1d6-4b4d-b962-22a496ded3ca",
   "metadata": {},
   "outputs": [],
   "source": [
    "from shapely.geometry import Point, Polygon\n",
    "from shapely.wkt import loads\n",
    "from pyspark.sql.types import StringType\n",
    "from pyspark.sql.functions import broadcast"
   ]
  },
  {
   "cell_type": "code",
   "execution_count": 131,
   "id": "97079a3f-b814-4a2f-ba5c-427801e12d5d",
   "metadata": {},
   "outputs": [],
   "source": [
    "joined_df = taxi_data.crossJoin(broadcast(geoBorough_data))"
   ]
  },
  {
   "cell_type": "code",
   "execution_count": 132,
   "id": "598bddfb-a0a1-42a3-a108-d34003d68290",
   "metadata": {},
   "outputs": [
    {
     "data": {
      "text/plain": [
       "4"
      ]
     },
     "execution_count": 132,
     "metadata": {},
     "output_type": "execute_result"
    }
   ],
   "source": [
    "joined_df.rdd.getNumPartitions()"
   ]
  },
  {
   "cell_type": "code",
   "execution_count": 133,
   "id": "d6fbadb2-79dc-4949-be6e-ae066e22ffcb",
   "metadata": {},
   "outputs": [
    {
     "name": "stdout",
     "output_type": "stream",
     "text": [
      "root\n",
      " |-- medallion: string (nullable = true)\n",
      " |-- hack_license: string (nullable = true)\n",
      " |-- vendor_id: string (nullable = true)\n",
      " |-- rate_code: integer (nullable = true)\n",
      " |-- pickup_datetime: timestamp (nullable = true)\n",
      " |-- dropoff_datetime: timestamp (nullable = true)\n",
      " |-- passenger_count: integer (nullable = true)\n",
      " |-- trip_time_in_secs: integer (nullable = true)\n",
      " |-- trip_distance: double (nullable = true)\n",
      " |-- pickup_longitude: double (nullable = true)\n",
      " |-- pickup_latitude: double (nullable = true)\n",
      " |-- dropoff_longitude: double (nullable = true)\n",
      " |-- dropoff_latitude: double (nullable = true)\n",
      " |-- pickUp_date_MilliS: long (nullable = true)\n",
      " |-- dropOff_date_MilliS: long (nullable = true)\n",
      " |-- duration: integer (nullable = true)\n",
      " |-- duration_ByMin: double (nullable = true)\n",
      " |-- pickup_point: string (nullable = true)\n",
      " |-- dropoff_point: string (nullable = true)\n",
      " |-- borough: string (nullable = true)\n",
      " |-- boroughCode: integer (nullable = true)\n",
      " |-- borough_area_code: integer (nullable = true)\n",
      " |-- polygon: string (nullable = true)\n",
      "\n"
     ]
    }
   ],
   "source": [
    "joined_df.printSchema()"
   ]
  },
  {
   "cell_type": "code",
   "execution_count": 134,
   "id": "cf9e2558-4c38-4c24-bca6-156000f4b36f",
   "metadata": {},
   "outputs": [
    {
     "data": {
      "text/plain": [
       "10399896"
      ]
     },
     "execution_count": 134,
     "metadata": {},
     "output_type": "execute_result"
    }
   ],
   "source": [
    "joined_df.count()"
   ]
  },
  {
   "cell_type": "code",
   "execution_count": 135,
   "id": "22d0fd4e-693f-481c-b66d-421e6e9a67ad",
   "metadata": {},
   "outputs": [],
   "source": [
    "from pyspark.sql.functions import count, sum, avg, stddev_pop,max, min,asc,desc,col,unix_millis,round, explode, udf"
   ]
  },
  {
   "cell_type": "code",
   "execution_count": 136,
   "id": "04f874c5-05bb-45b9-8198-b8944b6bdd43",
   "metadata": {},
   "outputs": [],
   "source": [
    "def point_in_polygon(wkt_point, polygon_wkt, borough):\n",
    "    point = loads(wkt_point)  # Convert WKT string to a Point object\n",
    "    polygon = loads(polygon_wkt)  # Convert WKT string to a Polygon object\n",
    "    return borough if polygon.contains(point) else None\n",
    "\n",
    "# Register the updated UDF in PySpark\n",
    "contains_borough_udf = udf(point_in_polygon, StringType())\n"
   ]
  },
  {
   "cell_type": "code",
   "execution_count": 137,
   "id": "10e77c71-2850-4b31-b70e-67fab7b9a6f0",
   "metadata": {},
   "outputs": [],
   "source": [
    "joined_df = joined_df.withColumn(\n",
    "    \"pickup_borough\",\n",
    "    contains_borough_udf(col(\"pickup_point\"), col(\"polygon\"), col(\"borough\"))\n",
    ").withColumn(\n",
    "    \"dropoff_borough\",\n",
    "    contains_borough_udf(col(\"dropoff_point\"), col(\"polygon\"), col(\"borough\"))\n",
    ")"
   ]
  },
  {
   "cell_type": "code",
   "execution_count": 138,
   "id": "1a0d82f4-1378-415a-ad58-4e3cab25ab78",
   "metadata": {},
   "outputs": [
    {
     "data": {
      "text/plain": [
       "['medallion',\n",
       " 'hack_license',\n",
       " 'vendor_id',\n",
       " 'rate_code',\n",
       " 'pickup_datetime',\n",
       " 'dropoff_datetime',\n",
       " 'passenger_count',\n",
       " 'trip_time_in_secs',\n",
       " 'trip_distance',\n",
       " 'pickup_longitude',\n",
       " 'pickup_latitude',\n",
       " 'dropoff_longitude',\n",
       " 'dropoff_latitude',\n",
       " 'pickUp_date_MilliS',\n",
       " 'dropOff_date_MilliS',\n",
       " 'duration',\n",
       " 'duration_ByMin',\n",
       " 'pickup_point',\n",
       " 'dropoff_point',\n",
       " 'borough',\n",
       " 'boroughCode',\n",
       " 'borough_area_code',\n",
       " 'polygon',\n",
       " 'pickup_borough',\n",
       " 'dropoff_borough']"
      ]
     },
     "execution_count": 138,
     "metadata": {},
     "output_type": "execute_result"
    }
   ],
   "source": [
    "joined_df.columns"
   ]
  },
  {
   "cell_type": "code",
   "execution_count": 139,
   "id": "4bc24a51-ddf6-4beb-a23c-83f8f62324cc",
   "metadata": {},
   "outputs": [
    {
     "name": "stdout",
     "output_type": "stream",
     "text": [
      "+-----------------+--------------------+-------+--------------+---------------+\n",
      "|borough_area_code|             polygon|borough|pickup_borough|dropoff_borough|\n",
      "+-----------------+--------------------+-------+--------------+---------------+\n",
      "|                5|POLYGON ((-73.836...| Queens|          NULL|           NULL|\n",
      "|                5|POLYGON ((-73.813...| Queens|          NULL|           NULL|\n",
      "+-----------------+--------------------+-------+--------------+---------------+\n",
      "only showing top 2 rows\n",
      "\n"
     ]
    }
   ],
   "source": [
    "joined_df.select([\n",
    " 'borough_area_code',\n",
    " 'polygon',\n",
    " 'borough',\n",
    " 'pickup_borough',\n",
    " 'dropoff_borough'\n",
    "    \n",
    "]\n",
    "    \n",
    ").show(2)"
   ]
  },
  {
   "cell_type": "code",
   "execution_count": 140,
   "id": "5f2701fd-140a-40d3-84d0-ef927bff6f17",
   "metadata": {},
   "outputs": [],
   "source": [
    "filtered_df = joined_df.filter(col(\"pickup_borough\").isNotNull() | col(\"dropoff_borough\").isNotNull())\n"
   ]
  },
  {
   "cell_type": "code",
   "execution_count": 141,
   "id": "6f57ae02-34fc-424a-a557-ec2976ef67fd",
   "metadata": {},
   "outputs": [
    {
     "name": "stdout",
     "output_type": "stream",
     "text": [
      "+-----------+-----------------+--------------------+--------------+\n",
      "|boroughCode|borough_area_code|             polygon|pickup_borough|\n",
      "+-----------+-----------------+--------------------+--------------+\n",
      "|          4|                5|POLYGON ((-73.891...|        Queens|\n",
      "|          4|                5|POLYGON ((-73.891...|        Queens|\n",
      "+-----------+-----------------+--------------------+--------------+\n",
      "only showing top 2 rows\n",
      "\n"
     ]
    }
   ],
   "source": [
    "filtered_df.filter(col(\"borough\")==\"Queens\").select(filtered_df.columns[-5:-1]).show(2)"
   ]
  },
  {
   "cell_type": "code",
   "execution_count": 142,
   "id": "49bfa883-e2cd-4e96-a2ad-e651aed47c57",
   "metadata": {},
   "outputs": [
    {
     "name": "stdout",
     "output_type": "stream",
     "text": [
      "root\n",
      " |-- medallion: string (nullable = true)\n",
      " |-- hack_license: string (nullable = true)\n",
      " |-- vendor_id: string (nullable = true)\n",
      " |-- rate_code: integer (nullable = true)\n",
      " |-- pickup_datetime: timestamp (nullable = true)\n",
      " |-- dropoff_datetime: timestamp (nullable = true)\n",
      " |-- passenger_count: integer (nullable = true)\n",
      " |-- trip_time_in_secs: integer (nullable = true)\n",
      " |-- trip_distance: double (nullable = true)\n",
      " |-- pickup_longitude: double (nullable = true)\n",
      " |-- pickup_latitude: double (nullable = true)\n",
      " |-- dropoff_longitude: double (nullable = true)\n",
      " |-- dropoff_latitude: double (nullable = true)\n",
      " |-- pickUp_date_MilliS: long (nullable = true)\n",
      " |-- dropOff_date_MilliS: long (nullable = true)\n",
      " |-- duration: integer (nullable = true)\n",
      " |-- duration_ByMin: double (nullable = true)\n",
      " |-- pickup_point: string (nullable = true)\n",
      " |-- dropoff_point: string (nullable = true)\n",
      " |-- borough: string (nullable = true)\n",
      " |-- boroughCode: integer (nullable = true)\n",
      " |-- borough_area_code: integer (nullable = true)\n",
      " |-- polygon: string (nullable = true)\n",
      " |-- pickup_borough: string (nullable = true)\n",
      " |-- dropoff_borough: string (nullable = true)\n",
      "\n"
     ]
    }
   ],
   "source": [
    "filtered_df.printSchema()"
   ]
  },
  {
   "cell_type": "code",
   "execution_count": 143,
   "id": "d2611ddb-4bda-412f-971b-e42ae456295b",
   "metadata": {},
   "outputs": [
    {
     "data": {
      "text/plain": [
       "['medallion',\n",
       " 'hack_license',\n",
       " 'vendor_id',\n",
       " 'rate_code',\n",
       " 'pickup_datetime',\n",
       " 'dropoff_datetime',\n",
       " 'passenger_count',\n",
       " 'trip_time_in_secs',\n",
       " 'trip_distance',\n",
       " 'pickup_longitude',\n",
       " 'pickup_latitude',\n",
       " 'dropoff_longitude',\n",
       " 'dropoff_latitude',\n",
       " 'pickUp_date_MilliS',\n",
       " 'dropOff_date_MilliS',\n",
       " 'duration',\n",
       " 'duration_ByMin',\n",
       " 'pickup_point',\n",
       " 'dropoff_point',\n",
       " 'borough',\n",
       " 'boroughCode',\n",
       " 'borough_area_code',\n",
       " 'polygon',\n",
       " 'pickup_borough',\n",
       " 'dropoff_borough']"
      ]
     },
     "execution_count": 143,
     "metadata": {},
     "output_type": "execute_result"
    }
   ],
   "source": [
    "filtered_df.columns"
   ]
  },
  {
   "cell_type": "code",
   "execution_count": 144,
   "id": "9af4fee0-502f-4eda-890b-91047553f6cc",
   "metadata": {},
   "outputs": [],
   "source": [
    "filtered_df=filtered_df.select(\n",
    "    [\n",
    "    'medallion',\n",
    " 'rate_code',\n",
    " 'pickup_datetime',\n",
    " 'dropoff_datetime',\n",
    " 'passenger_count',\n",
    " 'trip_time_in_secs',\n",
    " 'trip_distance',\n",
    " 'pickUp_date_MilliS',\n",
    " 'dropOff_date_MilliS',\n",
    " 'duration',\n",
    " 'duration_ByMin',\n",
    " 'borough_area_code',\n",
    " 'borough',\n",
    " 'pickup_borough',\n",
    " 'dropoff_borough'\n",
    "    ]\n",
    ")"
   ]
  },
  {
   "cell_type": "code",
   "execution_count": 145,
   "id": "07885c4c-c4fd-4abd-badd-8d3d9e3a6d6c",
   "metadata": {},
   "outputs": [],
   "source": [
    "filtered_df.write\\\n",
    ".option(\"schema\",filtered_df.schema)\\\n",
    ".option(\"header\",True)\\\n",
    ".csv(\"file:/home/jovyan/work/advanced_big_data/projects/ETL/marged_taxiData2.csv\")"
   ]
  },
  {
   "cell_type": "code",
   "execution_count": 146,
   "id": "25cd21d6-cda3-4f61-99cf-b9cb11673e60",
   "metadata": {},
   "outputs": [],
   "source": [
    "spark.stop()"
   ]
  },
  {
   "cell_type": "code",
   "execution_count": null,
   "id": "5e81c3d0-caf1-421a-94f7-9aa135710a05",
   "metadata": {},
   "outputs": [],
   "source": []
  },
  {
   "cell_type": "code",
   "execution_count": null,
   "id": "44c01287-6fd1-4303-8b87-97ee0bff1193",
   "metadata": {},
   "outputs": [],
   "source": []
  },
  {
   "cell_type": "code",
   "execution_count": null,
   "id": "108c2cc2-1468-4234-8eba-736e2e83a9f7",
   "metadata": {},
   "outputs": [],
   "source": []
  }
 ],
 "metadata": {
  "kernelspec": {
   "display_name": "Python 3 (ipykernel)",
   "language": "python",
   "name": "python3"
  },
  "language_info": {
   "codemirror_mode": {
    "name": "ipython",
    "version": 3
   },
   "file_extension": ".py",
   "mimetype": "text/x-python",
   "name": "python",
   "nbconvert_exporter": "python",
   "pygments_lexer": "ipython3",
   "version": "3.11.6"
  }
 },
 "nbformat": 4,
 "nbformat_minor": 5
}
