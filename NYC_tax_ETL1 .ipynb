{
 "cells": [
  {
   "cell_type": "code",
   "execution_count": 78,
   "id": "dad0ba43-295e-45b2-8001-7e321b92c185",
   "metadata": {},
   "outputs": [],
   "source": [
    "from pyspark.sql import SparkSession\n",
    "\n",
    "spark = SparkSession \\\n",
    "    .builder \\\n",
    "    .config(\"spark.sql.shuffle.partitions\", \"4\") \\\n",
    "    .config(\"spark.sql.files.maxPartitionBytes\", \"4m\") \\\n",
    "    .config(\"spark.dynamicAllocation.enabled\", \"false\")\\\n",
    "    .config(\"spark.sql.adaptive.enabled\", \"false\")\\\n",
    "    .config(\"spark.serializer\", \"org.apache.spark.serializer.KryoSerializer\") \\\n",
    "    .appName(\"NYC Taxi ETL1\") \\\n",
    "    .master(\"local[4]\")\\\n",
    "    .getOrCreate()"
   ]
  },
  {
   "cell_type": "code",
   "execution_count": 79,
   "id": "1f58db95-a1df-4c63-983a-3b0b85f4359e",
   "metadata": {},
   "outputs": [
    {
     "data": {
      "text/html": [
       "\n",
       "            <div>\n",
       "                <p><b>SparkSession - in-memory</b></p>\n",
       "                \n",
       "        <div>\n",
       "            <p><b>SparkContext</b></p>\n",
       "\n",
       "            <p><a href=\"http://58e5856f1ece:4040\">Spark UI</a></p>\n",
       "\n",
       "            <dl>\n",
       "              <dt>Version</dt>\n",
       "                <dd><code>v3.5.0</code></dd>\n",
       "              <dt>Master</dt>\n",
       "                <dd><code>local[4]</code></dd>\n",
       "              <dt>AppName</dt>\n",
       "                <dd><code>NYC Taxi ETL1</code></dd>\n",
       "            </dl>\n",
       "        </div>\n",
       "        \n",
       "            </div>\n",
       "        "
      ],
      "text/plain": [
       "<pyspark.sql.session.SparkSession at 0x7efd19916910>"
      ]
     },
     "execution_count": 79,
     "metadata": {},
     "output_type": "execute_result"
    }
   ],
   "source": [
    "spark"
   ]
  },
  {
   "cell_type": "code",
   "execution_count": 80,
   "id": "c0d2fab0-472f-441d-afe2-eead17772a38",
   "metadata": {},
   "outputs": [],
   "source": [
    "taxi_df =spark.read.csv(path='file:/home/jovyan/work/advanced_big_data/projects/ETL/sample.csv',\n",
    "                   header=True,\n",
    "                   inferSchema=True\n",
    "            \n",
    ")"
   ]
  },
  {
   "cell_type": "code",
   "execution_count": 81,
   "id": "54304ee4-66cf-4a21-91d4-b78ec88f18d4",
   "metadata": {},
   "outputs": [
    {
     "data": {
      "text/plain": [
       "4"
      ]
     },
     "execution_count": 81,
     "metadata": {},
     "output_type": "execute_result"
    }
   ],
   "source": [
    "taxi_df.rdd.getNumPartitions()"
   ]
  },
  {
   "cell_type": "code",
   "execution_count": 82,
   "id": "d09eefad-a138-4b10-8d68-68c13d5d04a4",
   "metadata": {},
   "outputs": [],
   "source": [
    "from pyspark.sql.functions import spark_partition_id"
   ]
  },
  {
   "cell_type": "code",
   "execution_count": null,
   "id": "3b7b3983-eeb9-42d1-9a65-06bbd2c09bdd",
   "metadata": {},
   "outputs": [],
   "source": []
  },
  {
   "cell_type": "code",
   "execution_count": 83,
   "id": "fbef0502-f9fa-47f7-9872-e3c3061f4663",
   "metadata": {},
   "outputs": [],
   "source": [
    "# spark.stop()"
   ]
  },
  {
   "cell_type": "code",
   "execution_count": 84,
   "id": "8147f180-35c9-4b17-b938-158145995292",
   "metadata": {},
   "outputs": [
    {
     "name": "stdout",
     "output_type": "stream",
     "text": [
      "root\n",
      " |-- medallion: string (nullable = true)\n",
      " |-- hack_license: string (nullable = true)\n",
      " |-- vendor_id: string (nullable = true)\n",
      " |-- rate_code: integer (nullable = true)\n",
      " |-- store_and_fwd_flag: string (nullable = true)\n",
      " |-- pickup_datetime: timestamp (nullable = true)\n",
      " |-- dropoff_datetime: timestamp (nullable = true)\n",
      " |-- passenger_count: integer (nullable = true)\n",
      " |-- trip_time_in_secs: integer (nullable = true)\n",
      " |-- trip_distance: double (nullable = true)\n",
      " |-- pickup_longitude: double (nullable = true)\n",
      " |-- pickup_latitude: double (nullable = true)\n",
      " |-- dropoff_longitude: double (nullable = true)\n",
      " |-- dropoff_latitude: double (nullable = true)\n",
      "\n"
     ]
    }
   ],
   "source": [
    "taxi_df.printSchema()"
   ]
  },
  {
   "cell_type": "code",
   "execution_count": 85,
   "id": "12134d73-00e9-42da-8deb-b1d516803c84",
   "metadata": {},
   "outputs": [],
   "source": [
    "taxi_df.createOrReplaceTempView(\"NYCTable\")"
   ]
  },
  {
   "cell_type": "code",
   "execution_count": 86,
   "id": "852c72a2-e212-403f-93d0-79601d39fdba",
   "metadata": {},
   "outputs": [
    {
     "data": {
      "text/html": [
       "<div>\n",
       "<style scoped>\n",
       "    .dataframe tbody tr th:only-of-type {\n",
       "        vertical-align: middle;\n",
       "    }\n",
       "\n",
       "    .dataframe tbody tr th {\n",
       "        vertical-align: top;\n",
       "    }\n",
       "\n",
       "    .dataframe thead th {\n",
       "        text-align: right;\n",
       "    }\n",
       "</style>\n",
       "<table border=\"1\" class=\"dataframe\">\n",
       "  <thead>\n",
       "    <tr style=\"text-align: right;\">\n",
       "      <th></th>\n",
       "      <th>medallion</th>\n",
       "      <th>hack_license</th>\n",
       "      <th>vendor_id</th>\n",
       "      <th>rate_code</th>\n",
       "      <th>store_and_fwd_flag</th>\n",
       "      <th>pickup_datetime</th>\n",
       "      <th>dropoff_datetime</th>\n",
       "      <th>passenger_count</th>\n",
       "      <th>trip_time_in_secs</th>\n",
       "      <th>trip_distance</th>\n",
       "      <th>pickup_longitude</th>\n",
       "      <th>pickup_latitude</th>\n",
       "      <th>dropoff_longitude</th>\n",
       "      <th>dropoff_latitude</th>\n",
       "    </tr>\n",
       "  </thead>\n",
       "  <tbody>\n",
       "    <tr>\n",
       "      <th>0</th>\n",
       "      <td>89D227B655E5C82AECF13C3F540D4CF4</td>\n",
       "      <td>BA96DE419E711691B9445D6A6307C170</td>\n",
       "      <td>CMT</td>\n",
       "      <td>1</td>\n",
       "      <td>N</td>\n",
       "      <td>2013-01-01 15:11:48</td>\n",
       "      <td>2013-01-01 15:18:10</td>\n",
       "      <td>4</td>\n",
       "      <td>382</td>\n",
       "      <td>1.0</td>\n",
       "      <td>-73.978165</td>\n",
       "      <td>40.757977</td>\n",
       "      <td>-73.989838</td>\n",
       "      <td>40.751171</td>\n",
       "    </tr>\n",
       "    <tr>\n",
       "      <th>1</th>\n",
       "      <td>0BD7C8F5BA12B88E0B67BED28BEA73D8</td>\n",
       "      <td>9FD8F69F0804BDB5549F40E9DA1BE472</td>\n",
       "      <td>CMT</td>\n",
       "      <td>1</td>\n",
       "      <td>N</td>\n",
       "      <td>2013-01-06 00:18:35</td>\n",
       "      <td>2013-01-06 00:22:54</td>\n",
       "      <td>1</td>\n",
       "      <td>259</td>\n",
       "      <td>1.5</td>\n",
       "      <td>-74.006683</td>\n",
       "      <td>40.731781</td>\n",
       "      <td>-73.994499</td>\n",
       "      <td>40.750660</td>\n",
       "    </tr>\n",
       "    <tr>\n",
       "      <th>2</th>\n",
       "      <td>0BD7C8F5BA12B88E0B67BED28BEA73D8</td>\n",
       "      <td>9FD8F69F0804BDB5549F40E9DA1BE472</td>\n",
       "      <td>CMT</td>\n",
       "      <td>1</td>\n",
       "      <td>N</td>\n",
       "      <td>2013-01-05 18:49:41</td>\n",
       "      <td>2013-01-05 18:54:23</td>\n",
       "      <td>1</td>\n",
       "      <td>282</td>\n",
       "      <td>1.1</td>\n",
       "      <td>-74.004707</td>\n",
       "      <td>40.737770</td>\n",
       "      <td>-74.009834</td>\n",
       "      <td>40.726002</td>\n",
       "    </tr>\n",
       "    <tr>\n",
       "      <th>3</th>\n",
       "      <td>DFD2202EE08F7A8DC9A57B02ACB81FE2</td>\n",
       "      <td>51EE87E3205C985EF8431D850C786310</td>\n",
       "      <td>CMT</td>\n",
       "      <td>1</td>\n",
       "      <td>N</td>\n",
       "      <td>2013-01-07 23:54:15</td>\n",
       "      <td>2013-01-07 23:58:20</td>\n",
       "      <td>2</td>\n",
       "      <td>244</td>\n",
       "      <td>0.7</td>\n",
       "      <td>-73.974602</td>\n",
       "      <td>40.759945</td>\n",
       "      <td>-73.984734</td>\n",
       "      <td>40.759388</td>\n",
       "    </tr>\n",
       "    <tr>\n",
       "      <th>4</th>\n",
       "      <td>DFD2202EE08F7A8DC9A57B02ACB81FE2</td>\n",
       "      <td>51EE87E3205C985EF8431D850C786310</td>\n",
       "      <td>CMT</td>\n",
       "      <td>1</td>\n",
       "      <td>N</td>\n",
       "      <td>2013-01-07 23:25:03</td>\n",
       "      <td>2013-01-07 23:34:24</td>\n",
       "      <td>1</td>\n",
       "      <td>560</td>\n",
       "      <td>2.1</td>\n",
       "      <td>-73.976250</td>\n",
       "      <td>40.748528</td>\n",
       "      <td>-74.002586</td>\n",
       "      <td>40.747868</td>\n",
       "    </tr>\n",
       "  </tbody>\n",
       "</table>\n",
       "</div>"
      ],
      "text/plain": [
       "                          medallion                      hack_license  \\\n",
       "0  89D227B655E5C82AECF13C3F540D4CF4  BA96DE419E711691B9445D6A6307C170   \n",
       "1  0BD7C8F5BA12B88E0B67BED28BEA73D8  9FD8F69F0804BDB5549F40E9DA1BE472   \n",
       "2  0BD7C8F5BA12B88E0B67BED28BEA73D8  9FD8F69F0804BDB5549F40E9DA1BE472   \n",
       "3  DFD2202EE08F7A8DC9A57B02ACB81FE2  51EE87E3205C985EF8431D850C786310   \n",
       "4  DFD2202EE08F7A8DC9A57B02ACB81FE2  51EE87E3205C985EF8431D850C786310   \n",
       "\n",
       "  vendor_id  rate_code store_and_fwd_flag     pickup_datetime  \\\n",
       "0       CMT          1                  N 2013-01-01 15:11:48   \n",
       "1       CMT          1                  N 2013-01-06 00:18:35   \n",
       "2       CMT          1                  N 2013-01-05 18:49:41   \n",
       "3       CMT          1                  N 2013-01-07 23:54:15   \n",
       "4       CMT          1                  N 2013-01-07 23:25:03   \n",
       "\n",
       "     dropoff_datetime  passenger_count  trip_time_in_secs  trip_distance  \\\n",
       "0 2013-01-01 15:18:10                4                382            1.0   \n",
       "1 2013-01-06 00:22:54                1                259            1.5   \n",
       "2 2013-01-05 18:54:23                1                282            1.1   \n",
       "3 2013-01-07 23:58:20                2                244            0.7   \n",
       "4 2013-01-07 23:34:24                1                560            2.1   \n",
       "\n",
       "   pickup_longitude  pickup_latitude  dropoff_longitude  dropoff_latitude  \n",
       "0        -73.978165        40.757977         -73.989838         40.751171  \n",
       "1        -74.006683        40.731781         -73.994499         40.750660  \n",
       "2        -74.004707        40.737770         -74.009834         40.726002  \n",
       "3        -73.974602        40.759945         -73.984734         40.759388  \n",
       "4        -73.976250        40.748528         -74.002586         40.747868  "
      ]
     },
     "execution_count": 86,
     "metadata": {},
     "output_type": "execute_result"
    }
   ],
   "source": [
    "taxi_df.toPandas().head(5)"
   ]
  },
  {
   "cell_type": "code",
   "execution_count": 87,
   "id": "855933f1-42f1-40be-bbb7-444473466622",
   "metadata": {},
   "outputs": [
    {
     "name": "stdout",
     "output_type": "stream",
     "text": [
      "+--------+\n",
      "|count(1)|\n",
      "+--------+\n",
      "|   99999|\n",
      "+--------+\n",
      "\n"
     ]
    }
   ],
   "source": [
    "spark.sql(\"SELECT COUNT(*) FROM NYCTable\").show() "
   ]
  },
  {
   "cell_type": "code",
   "execution_count": 88,
   "id": "48dc7cee-02a6-4190-a437-bffd6448dc36",
   "metadata": {},
   "outputs": [
    {
     "data": {
      "text/plain": [
       "['medallion',\n",
       " 'hack_license',\n",
       " 'vendor_id',\n",
       " 'rate_code',\n",
       " 'store_and_fwd_flag',\n",
       " 'pickup_datetime',\n",
       " 'dropoff_datetime',\n",
       " 'passenger_count',\n",
       " 'trip_time_in_secs',\n",
       " 'trip_distance',\n",
       " 'pickup_longitude',\n",
       " 'pickup_latitude',\n",
       " 'dropoff_longitude',\n",
       " 'dropoff_latitude']"
      ]
     },
     "execution_count": 88,
     "metadata": {},
     "output_type": "execute_result"
    }
   ],
   "source": [
    "taxi_df.columns"
   ]
  },
  {
   "cell_type": "code",
   "execution_count": 89,
   "id": "a2d0c140-b991-4d87-88dd-d8f8d324828e",
   "metadata": {},
   "outputs": [
    {
     "name": "stdout",
     "output_type": "stream",
     "text": [
      "medallion has 0 Null Values\n",
      "\n",
      "    \n",
      "hack_license has 0 Null Values\n",
      "\n",
      "    \n",
      "vendor_id has 0 Null Values\n",
      "\n",
      "    \n",
      "rate_code has 0 Null Values\n",
      "\n",
      "    \n",
      "store_and_fwd_flag has 99626 Null Values\n",
      "\n",
      "    \n",
      "pickup_datetime has 0 Null Values\n",
      "\n",
      "    \n",
      "dropoff_datetime has 0 Null Values\n",
      "\n",
      "    \n",
      "passenger_count has 0 Null Values\n",
      "\n",
      "    \n",
      "trip_time_in_secs has 0 Null Values\n",
      "\n",
      "    \n",
      "trip_distance has 0 Null Values\n",
      "\n",
      "    \n",
      "pickup_longitude has 0 Null Values\n",
      "\n",
      "    \n",
      "pickup_latitude has 0 Null Values\n",
      "\n",
      "    \n",
      "dropoff_longitude has 0 Null Values\n",
      "\n",
      "    \n",
      "dropoff_latitude has 0 Null Values\n",
      "\n",
      "    \n"
     ]
    }
   ],
   "source": [
    "# Counting Null Values in each column\n",
    "for col in taxi_df.columns:\n",
    "    print(f\"\"\"{col} has {taxi_df.filter(taxi_df[col].isNull()).count()} Null Values\\n\n",
    "    \"\"\")"
   ]
  },
  {
   "cell_type": "code",
   "execution_count": 90,
   "id": "69b78ba5-98f0-4479-8c24-fd46be53ee4a",
   "metadata": {},
   "outputs": [],
   "source": [
    "# drop store_and_fwd_flag because it has 99626 null values out of 99999 records.\n",
    "taxi_df=taxi_df.drop(\"store_and_fwd_flag\")"
   ]
  },
  {
   "cell_type": "code",
   "execution_count": 91,
   "id": "b98b9e17-e91b-4863-b1c5-8671310d431b",
   "metadata": {},
   "outputs": [
    {
     "data": {
      "text/plain": [
       "6444"
      ]
     },
     "execution_count": 91,
     "metadata": {},
     "output_type": "execute_result"
    }
   ],
   "source": [
    "taxi_df.select(\"medallion\").distinct().count() #Number of unique taxies"
   ]
  },
  {
   "cell_type": "code",
   "execution_count": 92,
   "id": "630a3d29-3b1f-445a-84ee-ecd07e9760f9",
   "metadata": {},
   "outputs": [],
   "source": [
    "from pyspark.sql.functions import count, sum, avg, stddev_pop,max, min,asc,desc,col,unix_millis,round"
   ]
  },
  {
   "cell_type": "code",
   "execution_count": 93,
   "id": "df78ca35-6992-42d2-bce7-e94b64ea71a5",
   "metadata": {},
   "outputs": [
    {
     "name": "stdout",
     "output_type": "stream",
     "text": [
      "+---------+---------------+-------------+\n",
      "|medallion|pickup_datetime|total_records|\n",
      "+---------+---------------+-------------+\n",
      "+---------+---------------+-------------+\n",
      "\n"
     ]
    }
   ],
   "source": [
    "# check if there are duplicated values based on medallion(taxi_id), pickup_datetime keys\n",
    "spark.sql(\"\"\" SELECT medallion, pickup_datetime, COUNT(*) AS total_records\n",
    "FROM NYCTable\n",
    "GROUP BY medallion, pickup_datetime\n",
    "HAVING COUNT(*) > 1\n",
    "ORDER BY total_records DESC \n",
    "\"\"\").show()"
   ]
  },
  {
   "cell_type": "code",
   "execution_count": 94,
   "id": "c8d76fd1-2574-44fa-9268-43011fccf0f7",
   "metadata": {},
   "outputs": [
    {
     "name": "stdout",
     "output_type": "stream",
     "text": [
      "+---------+---------------+-----+\n",
      "|medallion|pickup_datetime|count|\n",
      "+---------+---------------+-----+\n",
      "+---------+---------------+-----+\n",
      "\n"
     ]
    }
   ],
   "source": [
    "\n",
    "taxi_df.groupby(\"medallion\", \"pickup_datetime\")\\\n",
    ".count()\\\n",
    ".filter(col('count') > 1).show()"
   ]
  },
  {
   "cell_type": "markdown",
   "id": "c44c5ad8-2af9-4cdd-8257-eb54ffd092c7",
   "metadata": {},
   "source": [
    "# Drop trip records that has outliers.\n",
    "\n",
    "* To execuate that task we need to compute a new column \"Duration\" which will be the difference between pickup time and drop off time.\n",
    "  For this, we need to use unix_timestamp function to convert the date time of the respective times into milliseconds.\n",
    "  We need that so we can treat the time as a numeric value and can do substraction. so that, the duration will be dropoff_ts -pickup_ts.\n",
    "  after computing, we can drop records whose duration is either negative or above a given threshold, say 4 hours.  "
   ]
  },
  {
   "cell_type": "code",
   "execution_count": 95,
   "id": "e797f37f-b622-435b-b0e4-26804c4e63bc",
   "metadata": {},
   "outputs": [],
   "source": [
    "taxi_df=taxi_df.withColumn(\"pickUp_date_MilliS\",unix_millis(col(\"pickup_datetime\")))\n",
    "taxi_df=taxi_df.withColumn(\"dropOff_date_MilliS\",unix_millis(col(\"dropoff_datetime\")))"
   ]
  },
  {
   "cell_type": "code",
   "execution_count": 96,
   "id": "ef04dab6-0bb7-444d-8547-0c6b7b1fca6b",
   "metadata": {},
   "outputs": [
    {
     "name": "stdout",
     "output_type": "stream",
     "text": [
      "+-------------------+------------------+-------------------+-------------------+\n",
      "|    pickup_datetime|pickUp_date_MilliS|   dropoff_datetime|dropOff_date_MilliS|\n",
      "+-------------------+------------------+-------------------+-------------------+\n",
      "|2013-01-01 15:11:48|     1357053108000|2013-01-01 15:18:10|      1357053490000|\n",
      "|2013-01-06 00:18:35|     1357431515000|2013-01-06 00:22:54|      1357431774000|\n",
      "|2013-01-05 18:49:41|     1357411781000|2013-01-05 18:54:23|      1357412063000|\n",
      "|2013-01-07 23:54:15|     1357602855000|2013-01-07 23:58:20|      1357603100000|\n",
      "|2013-01-07 23:25:03|     1357601103000|2013-01-07 23:34:24|      1357601664000|\n",
      "+-------------------+------------------+-------------------+-------------------+\n",
      "only showing top 5 rows\n",
      "\n"
     ]
    }
   ],
   "source": [
    "taxi_df.select([\"pickup_datetime\",\"pickUp_date_MilliS\",\"dropoff_datetime\",\"dropOff_date_MilliS\"]).show(5)"
   ]
  },
  {
   "cell_type": "code",
   "execution_count": 97,
   "id": "d8322f93-4990-4afd-8f33-294a2485b171",
   "metadata": {},
   "outputs": [],
   "source": [
    "taxi_df=taxi_df.withColumn(\"duration\", (taxi_df[\"dropOff_date_MilliS\"] - taxi_df[\"pickUp_date_MilliS\"]))"
   ]
  },
  {
   "cell_type": "code",
   "execution_count": 98,
   "id": "869cb701-8df6-4185-8741-686273449d9e",
   "metadata": {},
   "outputs": [
    {
     "name": "stdout",
     "output_type": "stream",
     "text": [
      "+--------+\n",
      "|duration|\n",
      "+--------+\n",
      "|  382000|\n",
      "|  259000|\n",
      "|  282000|\n",
      "|  245000|\n",
      "|  561000|\n",
      "+--------+\n",
      "only showing top 5 rows\n",
      "\n"
     ]
    }
   ],
   "source": [
    "taxi_df.select(\"duration\").show(5)"
   ]
  },
  {
   "cell_type": "code",
   "execution_count": 99,
   "id": "2fdb8851-43af-4c51-bdf1-5170053625c3",
   "metadata": {},
   "outputs": [
    {
     "data": {
      "text/plain": [
       "0"
      ]
     },
     "execution_count": 99,
     "metadata": {},
     "output_type": "execute_result"
    }
   ],
   "source": [
    "taxi_df.filter(col(\"duration\") < 0).count()"
   ]
  },
  {
   "cell_type": "markdown",
   "id": "4fb72a89-6c9d-40dc-a8aa-1824a43ac1e5",
   "metadata": {},
   "source": [
    "##### There is no negative value."
   ]
  },
  {
   "cell_type": "code",
   "execution_count": 100,
   "id": "263dc91f-c695-4eb8-9f0d-77ff56f47fce",
   "metadata": {},
   "outputs": [],
   "source": [
    "taxi_df= taxi_df.withColumn(\"duration_ByMin\",round((taxi_df[\"duration\"])/60000)) #convert milliseconds to minutes"
   ]
  },
  {
   "cell_type": "code",
   "execution_count": 101,
   "id": "91606d09-2a3d-4a21-a4f3-083a7e2834f3",
   "metadata": {},
   "outputs": [
    {
     "name": "stdout",
     "output_type": "stream",
     "text": [
      "+--------------+\n",
      "|duration_ByMin|\n",
      "+--------------+\n",
      "|           6.0|\n",
      "|           4.0|\n",
      "|           5.0|\n",
      "|           4.0|\n",
      "|           9.0|\n",
      "+--------------+\n",
      "only showing top 5 rows\n",
      "\n"
     ]
    }
   ],
   "source": [
    "taxi_df.select(\"duration_ByMin\").show(5)"
   ]
  },
  {
   "cell_type": "code",
   "execution_count": 102,
   "id": "67975ac8-31bb-4d07-ac98-cf061cab5aed",
   "metadata": {},
   "outputs": [
    {
     "name": "stdout",
     "output_type": "stream",
     "text": [
      "+---------------+------------------+----------------+-------------------+--------+--------------+\n",
      "|pickup_datetime|pickUp_date_MilliS|dropoff_datetime|dropOff_date_MilliS|duration|duration_ByMin|\n",
      "+---------------+------------------+----------------+-------------------+--------+--------------+\n",
      "+---------------+------------------+----------------+-------------------+--------+--------------+\n",
      "\n"
     ]
    }
   ],
   "source": [
    "taxi_df.filter(col(\"duration_ByMin\") > 240.0)\\\n",
    ".select([\"pickup_datetime\",\"pickUp_date_MilliS\",\"dropoff_datetime\",\"dropOff_date_MilliS\",\"duration\",\"duration_ByMin\"])\\\n",
    ".show(5)"
   ]
  },
  {
   "cell_type": "markdown",
   "id": "12f64b87-88ba-4f01-8fb3-3604386e469a",
   "metadata": {},
   "source": [
    "#### There is no trip above 4 hours"
   ]
  },
  {
   "cell_type": "markdown",
   "id": "316e03a1-75ec-4ed7-850a-d8386c4a4658",
   "metadata": {},
   "source": [
    "### Check the percentage of ouliers in data."
   ]
  },
  {
   "cell_type": "code",
   "execution_count": 103,
   "id": "d19f4651-a0f1-49c3-9b77-dcbb0f99ad32",
   "metadata": {},
   "outputs": [],
   "source": [
    "import seaborn as sns\n",
    "import matplotlib.pyplot as plt\n",
    "import numpy as np\n",
    "import re"
   ]
  },
  {
   "cell_type": "code",
   "execution_count": 104,
   "id": "93e2c20b-1465-4575-a2a0-d2a1b63c7c07",
   "metadata": {},
   "outputs": [],
   "source": [
    "def hist_plot(data,col_name=\"\"):\n",
    "    plt.figure(figsize=(20,8))\n",
    "    sns.histplot(x=np.array(data.select(col_name).rdd.flatMap(lambda x: x).collect()),bins=30)\n",
    "    plt.title(\"Distribution of \"+re.sub(\"_\",\" \",col_name.upper()))\n",
    "    plt.xticks(rotation=50);"
   ]
  },
  {
   "cell_type": "code",
   "execution_count": 105,
   "id": "5b6c5cb5-40fd-483c-a808-e04302c895bf",
   "metadata": {},
   "outputs": [
    {
     "data": {
      "image/png": "[encoded data removed]",
      "text/plain": [
       "<Figure size 2000x800 with 1 Axes>"
      ]
     },
     "metadata": {},
     "output_type": "display_data"
    }
   ],
   "source": [
    "hist_plot(taxi_df,\"duration_ByMin\")"
   ]
  },
  {
   "cell_type": "code",
   "execution_count": 106,
   "id": "859fd89f-c3d6-4639-8f6e-5c4d3a306071",
   "metadata": {},
   "outputs": [
    {
     "data": {
      "image/png": "[encoded data removed]",
      "text/plain": [
       "<Figure size 640x480 with 1 Axes>"
      ]
     },
     "metadata": {},
     "output_type": "display_data"
    }
   ],
   "source": [
    "sns.boxplot(x=np.array(taxi_df.select(\"duration_ByMin\").rdd.flatMap(lambda x: x).collect()));\n"
   ]
  },
  {
   "cell_type": "code",
   "execution_count": 107,
   "id": "8e1b237b-a46b-4740-b57e-02711a4ee988",
   "metadata": {},
   "outputs": [],
   "source": [
    "# from pyspark.sql.functions import exp\n",
    "def iqr_outlier_treatment(dataframe, column, factor=1.5):\n",
    "    \"\"\"\n",
    "    Detects and treats outliers using IQR for multiple variables in a PySpark DataFrame.\n",
    "\n",
    "    :param dataframe: The input PySpark DataFrame\n",
    "    :param column: A column to apply IQR outlier treatment\n",
    "    :param factor: The IQR factor to use for detecting outliers (default is 1.5)\n",
    "    :return: The precentage of outliers in the data\n",
    "    \"\"\"\n",
    "\n",
    "    quantiles = dataframe.approxQuantile(column, [0.25, 0.75], 0.01)\n",
    "    q1, q3 = quantiles[0], quantiles[1]\n",
    "    iqr = q3 - q1\n",
    "\n",
    "    # Define the upper and lower bounds for outliers\n",
    "    lower_bound = q1 - factor * iqr\n",
    "    upper_bound = q3 + factor * iqr\n",
    "\n",
    "    # count outliers and return the percentage of them in data \n",
    "    percentage_of_outliers =(dataframe.count() - dataframe.filter((col(column) >= lower_bound) & (col(column) <= upper_bound)).count())\\\n",
    "    / dataframe.count() * 100\n",
    "\n",
    "    return percentage_of_outliers"
   ]
  },
  {
   "cell_type": "code",
   "execution_count": 108,
   "id": "954e6b41-4d70-4555-b7d5-8652232cf629",
   "metadata": {},
   "outputs": [
    {
     "name": "stdout",
     "output_type": "stream",
     "text": [
      "Percentage of outliers in data: 4.290042900429005\n"
     ]
    }
   ],
   "source": [
    "print(f\"Percentage of outliers in data: {iqr_outlier_treatment(taxi_df,'duration_ByMin',factor=1.5)}\")"
   ]
  },
  {
   "cell_type": "markdown",
   "id": "13ea102d-929f-4220-bfd5-d58ad47d1dc2",
   "metadata": {},
   "source": [
    "#### Since we will need to compute the average time it takes for a taxi to find its next fare/trip per destination borough\n",
    "we will not filter the outliers out."
   ]
  },
  {
   "cell_type": "markdown",
   "id": "4cbf7417-9214-4038-9587-4d4686f883d0",
   "metadata": {},
   "source": [
    "# Create method to calculate DataFrame statistics \n",
    "Finds data for each partition\n",
    "Calculate count of records, and min & max values of a column across each partition"
   ]
  },
  {
   "cell_type": "code",
   "execution_count": 109,
   "id": "eca8873a-64ea-4514-9bcf-450f0c43a912",
   "metadata": {},
   "outputs": [],
   "source": [
    "from pyspark.sql.functions import spark_partition_id\n",
    "def getDataFrameStats(dataFrame, columnName):\n",
    "\n",
    "    outputDF = (\n",
    "                    dataFrame\n",
    "\n",
    "                        # Get partition number for each record\n",
    "                        .withColumn(\"Partition Number\", spark_partition_id())\n",
    "        \n",
    "        \n",
    "                        # Group by partition, and calculate stats for a column\n",
    "                        .groupBy(\"Partition Number\")\n",
    "                        .agg(\n",
    "                                  count(\"*\").alias(\"Record Count\"),\n",
    "                                  min(columnName).alias(\"Min Column Value\"),\n",
    "                                  max(columnName).alias(\"Max Column Value\")\n",
    "                            )\n",
    "\n",
    "                        .orderBy(\"Partition Number\")\n",
    "               )\n",
    "\n",
    "    return outputDF"
   ]
  },
  {
   "cell_type": "code",
   "execution_count": 110,
   "id": "b02b59ce-7a46-4568-b22a-5fc153a24c10",
   "metadata": {},
   "outputs": [
    {
     "name": "stdout",
     "output_type": "stream",
     "text": [
      "+----------------+------------+----------------+----------------+\n",
      "|Partition Number|Record Count|Min Column Value|Max Column Value|\n",
      "+----------------+------------+----------------+----------------+\n",
      "|               0|       25286|               0|               0|\n",
      "|               1|       25267|               1|               1|\n",
      "|               2|       25259|               2|               2|\n",
      "|               3|       24187|               3|               3|\n",
      "+----------------+------------+----------------+----------------+\n",
      "\n"
     ]
    }
   ],
   "source": [
    "getDataFrameStats( taxi_df, \"Partition Number\" ).show()"
   ]
  },
  {
   "cell_type": "code",
   "execution_count": 111,
   "id": "ee5853fc-d6c2-48c1-a9d7-2320754863cd",
   "metadata": {},
   "outputs": [
    {
     "name": "stdout",
     "output_type": "stream",
     "text": [
      "+----------------+------------+----------------+----------------+\n",
      "|Partition Number|Record Count|Min Column Value|Max Column Value|\n",
      "+----------------+------------+----------------+----------------+\n",
      "|               0|       25286|             0.0|            99.0|\n",
      "|               1|       25267|             0.0|           153.0|\n",
      "|               2|       25259|             0.0|            87.0|\n",
      "|               3|       24187|             0.0|           147.0|\n",
      "+----------------+------------+----------------+----------------+\n",
      "\n"
     ]
    }
   ],
   "source": [
    "getDataFrameStats( taxi_df, \"duration_ByMin\" ).show()"
   ]
  },
  {
   "cell_type": "markdown",
   "id": "3f20f0fb-ead2-40ff-a3ec-918242229791",
   "metadata": {},
   "source": [
    "# Ducomentation for shapely"
   ]
  },
  {
   "cell_type": "code",
   "execution_count": 82,
   "id": "f5af86af-2a5f-480a-96c9-c247dac734d3",
   "metadata": {},
   "outputs": [
    {
     "name": "stdout",
     "output_type": "stream",
     "text": [
      "Collecting shapely\n",
      "  Downloading shapely-2.0.6-cp311-cp311-manylinux_2_17_x86_64.manylinux2014_x86_64.whl.metadata (7.0 kB)\n",
      "Requirement already satisfied: numpy<3,>=1.14 in /opt/conda/lib/python3.11/site-packages (from shapely) (1.24.4)\n",
      "Downloading shapely-2.0.6-cp311-cp311-manylinux_2_17_x86_64.manylinux2014_x86_64.whl (2.5 MB)\n",
      "\u001b[2K   \u001b[90m━━━━━━━━━━━━━━━━━━━━━━━━━━━━━━━━━━━━━━━━\u001b[0m \u001b[32m2.5/2.5 MB\u001b[0m \u001b[31m848.5 kB/s\u001b[0m eta \u001b[36m0:00:00\u001b[0m:01\u001b[0m00:01\u001b[0m\n",
      "\u001b[?25hInstalling collected packages: shapely\n",
      "Successfully installed shapely-2.0.6\n"
     ]
    }
   ],
   "source": [
    "! pip install shapely"
   ]
  },
  {
   "cell_type": "code",
   "execution_count": 112,
   "id": "cd51abe7-b27d-48f0-b2ad-a353b4f3b0ef",
   "metadata": {},
   "outputs": [],
   "source": [
    "from pyspark.sql.functions import udf\n",
    "from pyspark.sql.types import StringType\n",
    "from shapely.geometry import Point\n",
    "\n",
    "def coords_to_wkt(longitude, latitude):\n",
    "    return Point(longitude, latitude).wkt\n",
    "\n",
    "# Register the UDF in PySpark\n",
    "wkt_udf = udf(coords_to_wkt, StringType())\n",
    "# Add WKT point columns to the DataFrame\n",
    "taxi_df = taxi_df.withColumn(\"pickup_point\", wkt_udf(\"pickup_longitude\", \"pickup_latitude\"))\n",
    "taxi_df = taxi_df.withColumn(\"dropoff_point\", wkt_udf(\"dropoff_longitude\", \"dropoff_latitude\"))"
   ]
  },
  {
   "cell_type": "code",
   "execution_count": 113,
   "id": "79c6ff53-f41f-4ec8-a1ec-478244b5bf93",
   "metadata": {},
   "outputs": [
    {
     "data": {
      "text/html": [
       "<div>\n",
       "<style scoped>\n",
       "    .dataframe tbody tr th:only-of-type {\n",
       "        vertical-align: middle;\n",
       "    }\n",
       "\n",
       "    .dataframe tbody tr th {\n",
       "        vertical-align: top;\n",
       "    }\n",
       "\n",
       "    .dataframe thead th {\n",
       "        text-align: right;\n",
       "    }\n",
       "</style>\n",
       "<table border=\"1\" class=\"dataframe\">\n",
       "  <thead>\n",
       "    <tr style=\"text-align: right;\">\n",
       "      <th></th>\n",
       "      <th>pickup_longitude</th>\n",
       "      <th>pickup_latitude</th>\n",
       "      <th>pickup_point</th>\n",
       "      <th>dropoff_longitude</th>\n",
       "      <th>dropoff_latitude</th>\n",
       "      <th>dropoff_point</th>\n",
       "    </tr>\n",
       "  </thead>\n",
       "  <tbody>\n",
       "    <tr>\n",
       "      <th>0</th>\n",
       "      <td>-73.978165</td>\n",
       "      <td>40.757977</td>\n",
       "      <td>POINT (-73.978165 40.757977)</td>\n",
       "      <td>-73.989838</td>\n",
       "      <td>40.751171</td>\n",
       "      <td>POINT (-73.989838 40.751171)</td>\n",
       "    </tr>\n",
       "    <tr>\n",
       "      <th>1</th>\n",
       "      <td>-74.006683</td>\n",
       "      <td>40.731781</td>\n",
       "      <td>POINT (-74.006683 40.731781)</td>\n",
       "      <td>-73.994499</td>\n",
       "      <td>40.750660</td>\n",
       "      <td>POINT (-73.994499 40.75066)</td>\n",
       "    </tr>\n",
       "    <tr>\n",
       "      <th>2</th>\n",
       "      <td>-74.004707</td>\n",
       "      <td>40.737770</td>\n",
       "      <td>POINT (-74.004707 40.73777)</td>\n",
       "      <td>-74.009834</td>\n",
       "      <td>40.726002</td>\n",
       "      <td>POINT (-74.009834 40.726002)</td>\n",
       "    </tr>\n",
       "    <tr>\n",
       "      <th>3</th>\n",
       "      <td>-73.974602</td>\n",
       "      <td>40.759945</td>\n",
       "      <td>POINT (-73.974602 40.759945)</td>\n",
       "      <td>-73.984734</td>\n",
       "      <td>40.759388</td>\n",
       "      <td>POINT (-73.984734 40.759388)</td>\n",
       "    </tr>\n",
       "    <tr>\n",
       "      <th>4</th>\n",
       "      <td>-73.976250</td>\n",
       "      <td>40.748528</td>\n",
       "      <td>POINT (-73.97625 40.748528)</td>\n",
       "      <td>-74.002586</td>\n",
       "      <td>40.747868</td>\n",
       "      <td>POINT (-74.002586 40.747868)</td>\n",
       "    </tr>\n",
       "  </tbody>\n",
       "</table>\n",
       "</div>"
      ],
      "text/plain": [
       "   pickup_longitude  pickup_latitude                  pickup_point  \\\n",
       "0        -73.978165        40.757977  POINT (-73.978165 40.757977)   \n",
       "1        -74.006683        40.731781  POINT (-74.006683 40.731781)   \n",
       "2        -74.004707        40.737770   POINT (-74.004707 40.73777)   \n",
       "3        -73.974602        40.759945  POINT (-73.974602 40.759945)   \n",
       "4        -73.976250        40.748528   POINT (-73.97625 40.748528)   \n",
       "\n",
       "   dropoff_longitude  dropoff_latitude                 dropoff_point  \n",
       "0         -73.989838         40.751171  POINT (-73.989838 40.751171)  \n",
       "1         -73.994499         40.750660   POINT (-73.994499 40.75066)  \n",
       "2         -74.009834         40.726002  POINT (-74.009834 40.726002)  \n",
       "3         -73.984734         40.759388  POINT (-73.984734 40.759388)  \n",
       "4         -74.002586         40.747868  POINT (-74.002586 40.747868)  "
      ]
     },
     "execution_count": 113,
     "metadata": {},
     "output_type": "execute_result"
    }
   ],
   "source": [
    "taxi_df.select([\"pickup_longitude\", \"pickup_latitude\",\"pickup_point\",\"dropoff_longitude\", \"dropoff_latitude\",\"dropoff_point\"])\\\n",
    ".toPandas().head(5)"
   ]
  },
  {
   "cell_type": "code",
   "execution_count": 114,
   "id": "b3f70df4-cd79-44ac-a30d-edd9f2df2132",
   "metadata": {},
   "outputs": [
    {
     "data": {
      "text/plain": [
       "StructType([StructField('medallion', StringType(), True), StructField('hack_license', StringType(), True), StructField('vendor_id', StringType(), True), StructField('rate_code', IntegerType(), True), StructField('pickup_datetime', TimestampType(), True), StructField('dropoff_datetime', TimestampType(), True), StructField('passenger_count', IntegerType(), True), StructField('trip_time_in_secs', IntegerType(), True), StructField('trip_distance', DoubleType(), True), StructField('pickup_longitude', DoubleType(), True), StructField('pickup_latitude', DoubleType(), True), StructField('dropoff_longitude', DoubleType(), True), StructField('dropoff_latitude', DoubleType(), True), StructField('pickUp_date_MilliS', LongType(), True), StructField('dropOff_date_MilliS', LongType(), True), StructField('duration', LongType(), True), StructField('duration_ByMin', DoubleType(), True), StructField('pickup_point', StringType(), True), StructField('dropoff_point', StringType(), True)])"
      ]
     },
     "execution_count": 114,
     "metadata": {},
     "output_type": "execute_result"
    }
   ],
   "source": [
    "taxi_df.schema"
   ]
  },
  {
   "cell_type": "code",
   "execution_count": 115,
   "id": "fd9433d2-fabf-4a8b-9401-5c137f1384c2",
   "metadata": {},
   "outputs": [],
   "source": [
    "taxi_df.write.option(\"schema\",taxi_df.schema)\\\n",
    ".option(\"header\",True)\\\n",
    ".csv(\"file:/home/jovyan/work/advanced_big_data/projects/ETL/taxiData2.csv/\")\n"
   ]
  },
  {
   "cell_type": "markdown",
   "id": "0277f4ba-782b-47e4-be43-4ab887cd8564",
   "metadata": {},
   "source": [
    "## Load borough_geoJson"
   ]
  },
  {
   "cell_type": "code",
   "execution_count": 116,
   "id": "b874d7f6-5567-4e52-99ba-c5b9ac37f406",
   "metadata": {},
   "outputs": [],
   "source": [
    "#load nycgeo_boroughs.json\n"
   ]
  },
  {
   "cell_type": "code",
   "execution_count": 117,
   "id": "c20257dc-b57e-4dfb-be48-e8096b3f4dd5",
   "metadata": {},
   "outputs": [
    {
     "name": "stdout",
     "output_type": "stream",
     "text": [
      "+--------------------+-----------------+\n",
      "|            features|             type|\n",
      "+--------------------+-----------------+\n",
      "|[{{[[[-74.0505080...|FeatureCollection|\n",
      "+--------------------+-----------------+\n",
      "\n"
     ]
    }
   ],
   "source": [
    "geo_Boroughs_df =spark.read.option(\"multiline\",\"true\") \\\n",
    "      .json(\"file:/home/jovyan/work/advanced_big_data/projects/ETL/nyc-boroughs.geojson\")\n",
    "geo_Boroughs_df.show()    "
   ]
  },
  {
   "cell_type": "code",
   "execution_count": 118,
   "id": "ed8b1f57-2190-442e-bee9-714c52cca8d9",
   "metadata": {},
   "outputs": [
    {
     "name": "stdout",
     "output_type": "stream",
     "text": [
      "root\n",
      " |-- features: array (nullable = true)\n",
      " |    |-- element: struct (containsNull = true)\n",
      " |    |    |-- geometry: struct (nullable = true)\n",
      " |    |    |    |-- coordinates: array (nullable = true)\n",
      " |    |    |    |    |-- element: array (containsNull = true)\n",
      " |    |    |    |    |    |-- element: array (containsNull = true)\n",
      " |    |    |    |    |    |    |-- element: double (containsNull = true)\n",
      " |    |    |    |-- type: string (nullable = true)\n",
      " |    |    |-- id: long (nullable = true)\n",
      " |    |    |-- properties: struct (nullable = true)\n",
      " |    |    |    |-- @id: string (nullable = true)\n",
      " |    |    |    |-- borough: string (nullable = true)\n",
      " |    |    |    |-- boroughCode: long (nullable = true)\n",
      " |    |    |-- type: string (nullable = true)\n",
      " |-- type: string (nullable = true)\n",
      "\n"
     ]
    }
   ],
   "source": [
    "geo_Boroughs_df.printSchema()"
   ]
  },
  {
   "cell_type": "code",
   "execution_count": 119,
   "id": "144e0d05-478e-4f83-9367-bd2ed42eeccf",
   "metadata": {},
   "outputs": [
    {
     "name": "stdout",
     "output_type": "stream",
     "text": [
      "root\n",
      " |-- borough: string (nullable = true)\n",
      " |-- boroughCode: long (nullable = true)\n",
      " |-- coordinates: array (nullable = true)\n",
      " |    |-- element: array (containsNull = true)\n",
      " |    |    |-- element: array (containsNull = true)\n",
      " |    |    |    |-- element: double (containsNull = true)\n",
      "\n"
     ]
    }
   ],
   "source": [
    "from pyspark.sql.functions import count, sum, avg, stddev_pop,max, min,asc,desc,col,unix_millis,round, explode\n",
    "# Explode features to flatten the GeoJSON structure\n",
    "geo_Boroughs_df = geo_Boroughs_df.select(explode(\"features\").alias(\"feature\"))\n",
    "from pyspark.sql.functions import col\n",
    "# Extract necessary fields\n",
    "geo_Boroughs_df = geo_Boroughs_df.select(\n",
    "    col(\"feature.properties.borough\").alias(\"borough\"),\n",
    "    col(\"feature.properties.boroughCode\").alias(\"boroughCode\"),\n",
    "    col(\"feature.geometry.coordinates\").alias(\"coordinates\")\n",
    ")\n",
    "\n",
    "geo_Boroughs_df.printSchema()"
   ]
  },
  {
   "cell_type": "code",
   "execution_count": null,
   "id": "fa4ca965-a089-4b49-9369-e169d8e8518c",
   "metadata": {},
   "outputs": [],
   "source": []
  },
  {
   "cell_type": "code",
   "execution_count": 120,
   "id": "7e647b88-e3bc-4479-90a4-3f633fd0ed95",
   "metadata": {},
   "outputs": [
    {
     "name": "stdout",
     "output_type": "stream",
     "text": [
      "+-------------+-----------+--------------------+\n",
      "|      borough|boroughCode|         coordinates|\n",
      "+-------------+-----------+--------------------+\n",
      "|Staten Island|          5|[[[-74.0505080640...|\n",
      "|Staten Island|          5|[[[-74.0531403682...|\n",
      "|Staten Island|          5|[[[-74.1594560243...|\n",
      "|Staten Island|          5|[[[-74.0822127291...|\n",
      "|       Queens|          4|[[[-73.8366827410...|\n",
      "+-------------+-----------+--------------------+\n",
      "only showing top 5 rows\n",
      "\n"
     ]
    }
   ],
   "source": [
    "geo_Boroughs_df.show(5)"
   ]
  },
  {
   "cell_type": "code",
   "execution_count": 121,
   "id": "cbc811c0-d33c-42b0-bc9e-241fbd13a461",
   "metadata": {},
   "outputs": [
    {
     "data": {
      "text/html": [
       "<div>\n",
       "<style scoped>\n",
       "    .dataframe tbody tr th:only-of-type {\n",
       "        vertical-align: middle;\n",
       "    }\n",
       "\n",
       "    .dataframe tbody tr th {\n",
       "        vertical-align: top;\n",
       "    }\n",
       "\n",
       "    .dataframe thead th {\n",
       "        text-align: right;\n",
       "    }\n",
       "</style>\n",
       "<table border=\"1\" class=\"dataframe\">\n",
       "  <thead>\n",
       "    <tr style=\"text-align: right;\">\n",
       "      <th></th>\n",
       "      <th>borough</th>\n",
       "      <th>boroughCode</th>\n",
       "      <th>coordinates</th>\n",
       "    </tr>\n",
       "  </thead>\n",
       "  <tbody>\n",
       "    <tr>\n",
       "      <th>0</th>\n",
       "      <td>Staten Island</td>\n",
       "      <td>5</td>\n",
       "      <td>[[[-74.05050806403247, 40.566422034160816], [-...</td>\n",
       "    </tr>\n",
       "    <tr>\n",
       "      <th>1</th>\n",
       "      <td>Staten Island</td>\n",
       "      <td>5</td>\n",
       "      <td>[[[-74.05314036821109, 40.577702715545755], [-...</td>\n",
       "    </tr>\n",
       "    <tr>\n",
       "      <th>2</th>\n",
       "      <td>Staten Island</td>\n",
       "      <td>5</td>\n",
       "      <td>[[[-74.15945602438188, 40.641448333324036], [-...</td>\n",
       "    </tr>\n",
       "    <tr>\n",
       "      <th>3</th>\n",
       "      <td>Staten Island</td>\n",
       "      <td>5</td>\n",
       "      <td>[[[-74.08221272914938, 40.64828016229008], [-7...</td>\n",
       "    </tr>\n",
       "    <tr>\n",
       "      <th>4</th>\n",
       "      <td>Queens</td>\n",
       "      <td>4</td>\n",
       "      <td>[[[-73.83668274106708, 40.59494669701581], [-7...</td>\n",
       "    </tr>\n",
       "  </tbody>\n",
       "</table>\n",
       "</div>"
      ],
      "text/plain": [
       "         borough  boroughCode  \\\n",
       "0  Staten Island            5   \n",
       "1  Staten Island            5   \n",
       "2  Staten Island            5   \n",
       "3  Staten Island            5   \n",
       "4         Queens            4   \n",
       "\n",
       "                                         coordinates  \n",
       "0  [[[-74.05050806403247, 40.566422034160816], [-...  \n",
       "1  [[[-74.05314036821109, 40.577702715545755], [-...  \n",
       "2  [[[-74.15945602438188, 40.641448333324036], [-...  \n",
       "3  [[[-74.08221272914938, 40.64828016229008], [-7...  \n",
       "4  [[[-73.83668274106708, 40.59494669701581], [-7...  "
      ]
     },
     "execution_count": 121,
     "metadata": {},
     "output_type": "execute_result"
    }
   ],
   "source": [
    "geo_Boroughs_df.toPandas().head(5)"
   ]
  },
  {
   "cell_type": "code",
   "execution_count": 122,
   "id": "239c505c-9c96-4a9a-be6b-3fe94c1389ef",
   "metadata": {},
   "outputs": [
    {
     "name": "stdout",
     "output_type": "stream",
     "text": [
      "+----------------+------------+----------------+----------------+\n",
      "|Partition Number|Record Count|Min Column Value|Max Column Value|\n",
      "+----------------+------------+----------------+----------------+\n",
      "|               0|         104|               0|               0|\n",
      "+----------------+------------+----------------+----------------+\n",
      "\n"
     ]
    }
   ],
   "source": [
    "getDataFrameStats(geo_Boroughs_df,\"Partition Number\").show()"
   ]
  },
  {
   "cell_type": "code",
   "execution_count": 123,
   "id": "9141003c-42a0-4764-87bc-06e67ca9d728",
   "metadata": {},
   "outputs": [
    {
     "name": "stdout",
     "output_type": "stream",
     "text": [
      "+----------------+------------+----------------+----------------+\n",
      "|Partition Number|Record Count|Min Column Value|Max Column Value|\n",
      "+----------------+------------+----------------+----------------+\n",
      "|               0|         104|           Bronx|   Staten Island|\n",
      "+----------------+------------+----------------+----------------+\n",
      "\n"
     ]
    }
   ],
   "source": [
    "getDataFrameStats(geo_Boroughs_df,\"borough\").show()"
   ]
  },
  {
   "cell_type": "markdown",
   "id": "247cb262-a0ae-4c80-abe5-70ea0a380c8b",
   "metadata": {},
   "source": [
    "# Sort geo_Boroughs_df by the largest borough area.\n",
    "\n",
    "** It is recommended to sort the GeoJson data by polygon size in a descending order to guarantee faster acess as the borough\n",
    "with the largest area is expected to happen more frequently in the taxi ride dataset."
   ]
  },
  {
   "cell_type": "code",
   "execution_count": 124,
   "id": "e2b51a9c-e15e-49c9-9c82-8dd1a389aaa3",
   "metadata": {},
   "outputs": [],
   "source": [
    "geo_Boroughs_df.createOrReplaceTempView(\"GeoBoroughsTable\")"
   ]
  },
  {
   "cell_type": "code",
   "execution_count": 125,
   "id": "541d996e-a215-4808-bd29-0f39cfc4435d",
   "metadata": {},
   "outputs": [
    {
     "name": "stdout",
     "output_type": "stream",
     "text": [
      "+-------+-----------+--------------------+-----------------+\n",
      "|borough|boroughCode|         coordinates|borough_area_code|\n",
      "+-------+-----------+--------------------+-----------------+\n",
      "| Queens|          4|[[[-73.8271828210...|                5|\n",
      "| Queens|          4|[[[-73.8049919885...|                5|\n",
      "| Queens|          4|[[[-73.8260747260...|                5|\n",
      "| Queens|          4|[[[-73.8324420735...|                5|\n",
      "| Queens|          4|[[[-73.7942017262...|                5|\n",
      "+-------+-----------+--------------------+-----------------+\n",
      "only showing top 5 rows\n",
      "\n"
     ]
    }
   ],
   "source": [
    "# assign each borough to a number, begin with the largest area, and end with the smallest one.\n",
    "spark.sql(\"\"\"\n",
    "    SELECT * , \n",
    "    \n",
    "        CASE WHEN borough = 'Queens' THEN 5\n",
    "            WHEN  borough = 'Brooklyn' THEN 4\n",
    "            WHEN  borough = 'Staten/ Island' THEN 3\n",
    "            WHEN  borough = 'Bronx' THEN 2\n",
    "            ELSE 1\n",
    "        END AS borough_area_code\n",
    "   \n",
    "FROM\n",
    "    GeoBoroughsTable\n",
    "ORDER BY borough_area_code DESC   \n",
    "    \"\"\"\n",
    ").show(5)"
   ]
  },
  {
   "cell_type": "code",
   "execution_count": 126,
   "id": "8a028c17-a534-4a03-9589-29980d295715",
   "metadata": {},
   "outputs": [],
   "source": [
    "geo_Boroughs_df2=spark.sql(\"\"\"\n",
    "    SELECT * , \n",
    "    \n",
    "        CASE WHEN borough = 'Queens' THEN 5\n",
    "            WHEN  borough = 'Brooklyn' THEN 4\n",
    "            WHEN  borough = 'Staten Island' THEN 3\n",
    "            WHEN  borough = 'Bronx' THEN 2\n",
    "            ELSE 1\n",
    "        END AS borough_area_code\n",
    "   \n",
    "FROM\n",
    "    GeoBoroughsTable\n",
    "ORDER BY borough_area_code DESC   \n",
    "    \"\"\"\n",
    ")"
   ]
  },
  {
   "cell_type": "code",
   "execution_count": 127,
   "id": "ef670009-9336-4a6f-bc20-29e813b573d3",
   "metadata": {},
   "outputs": [
    {
     "name": "stdout",
     "output_type": "stream",
     "text": [
      "+-------+-----------+--------------------+-----------------+\n",
      "|borough|boroughCode|         coordinates|borough_area_code|\n",
      "+-------+-----------+--------------------+-----------------+\n",
      "| Queens|          4|[[[-73.8597553367...|                5|\n",
      "| Queens|          4|[[[-73.8366827410...|                5|\n",
      "| Queens|          4|[[[-73.8133966522...|                5|\n",
      "| Queens|          4|[[[-73.8271828210...|                5|\n",
      "| Queens|          4|[[[-73.8260747260...|                5|\n",
      "| Queens|          4|[[[-73.8324420735...|                5|\n",
      "| Queens|          4|[[[-73.7942017262...|                5|\n",
      "| Queens|          4|[[[-73.8050972017...|                5|\n",
      "| Queens|          4|[[[-73.8049919885...|                5|\n",
      "| Queens|          4|[[[-73.7395585646...|                5|\n",
      "| Queens|          4|[[[-73.7394438084...|                5|\n",
      "| Queens|          4|[[[-73.7905494855...|                5|\n",
      "| Queens|          4|[[[-73.7667082778...|                5|\n",
      "| Queens|          4|[[[-73.7978353339...|                5|\n",
      "| Queens|          4|[[[-73.8130723389...|                5|\n",
      "| Queens|          4|[[[-73.8233759212...|                5|\n",
      "| Queens|          4|[[[-73.8589800297...|                5|\n",
      "| Queens|          4|[[[-73.8589800297...|                5|\n",
      "| Queens|          4|[[[-73.8303272533...|                5|\n",
      "| Queens|          4|[[[-73.8914505558...|                5|\n",
      "+-------+-----------+--------------------+-----------------+\n",
      "only showing top 20 rows\n",
      "\n"
     ]
    }
   ],
   "source": [
    "geo_Boroughs_df2.show()"
   ]
  },
  {
   "cell_type": "code",
   "execution_count": 128,
   "id": "e01982fc-e3b2-4ebc-b665-b1177db22345",
   "metadata": {},
   "outputs": [
    {
     "name": "stdout",
     "output_type": "stream",
     "text": [
      "+---------+-----------+--------------------+-----------------+\n",
      "|  borough|boroughCode|         coordinates|borough_area_code|\n",
      "+---------+-----------+--------------------+-----------------+\n",
      "|Manhattan|          1|[[[-74.0109284126...|                1|\n",
      "|Manhattan|          1|[[[-74.0050037331...|                1|\n",
      "+---------+-----------+--------------------+-----------------+\n",
      "only showing top 2 rows\n",
      "\n"
     ]
    }
   ],
   "source": [
    "geo_Boroughs_df2.filter(col(\"borough_area_code\")==1).show(2)"
   ]
  },
  {
   "cell_type": "code",
   "execution_count": 129,
   "id": "0531bb98-de1d-46f1-baa6-c29f1404c9c9",
   "metadata": {},
   "outputs": [
    {
     "name": "stdout",
     "output_type": "stream",
     "text": [
      "root\n",
      " |-- borough: string (nullable = true)\n",
      " |-- boroughCode: long (nullable = true)\n",
      " |-- coordinates: array (nullable = true)\n",
      " |    |-- element: array (containsNull = true)\n",
      " |    |    |-- element: array (containsNull = true)\n",
      " |    |    |    |-- element: double (containsNull = true)\n",
      " |-- borough_area_code: integer (nullable = false)\n",
      "\n"
     ]
    }
   ],
   "source": [
    "geo_Boroughs_df2.printSchema()"
   ]
  },
  {
   "cell_type": "code",
   "execution_count": 130,
   "id": "c93f5769-363f-4352-9a18-27cb98bd6f8c",
   "metadata": {},
   "outputs": [],
   "source": [
    "from pyspark.sql.functions import udf"
   ]
  },
  {
   "cell_type": "code",
   "execution_count": 131,
   "id": "a62576de-3026-4d87-ae02-7d00bf0f7842",
   "metadata": {},
   "outputs": [],
   "source": [
    "from pyspark.sql.types import StringType\n",
    "from shapely.geometry import shape\n",
    "\n",
    "# UDF to convert JSON coordinates to a Shapely polygon\n",
    "def json_to_polygon(coordinates):\n",
    "    try:\n",
    "        geom_dict = {\"type\": \"Polygon\" if isinstance(coordinates[0][0][0], float) else \"MultiPolygon\", \"coordinates\": coordinates}\n",
    "        return str(shape(geom_dict))\n",
    "    except Exception as e:\n",
    "        return str(e)\n",
    "\n",
    "json_to_polygon_udf = udf(json_to_polygon, StringType())\n",
    "geo_Boroughs_polygon = geo_Boroughs_df2.withColumn(\"polygon\", json_to_polygon_udf(\"coordinates\"))"
   ]
  },
  {
   "cell_type": "code",
   "execution_count": 132,
   "id": "d5091b8c-a2d3-4cd4-9b80-ea39b58dc6e4",
   "metadata": {},
   "outputs": [
    {
     "name": "stdout",
     "output_type": "stream",
     "text": [
      "root\n",
      " |-- borough: string (nullable = true)\n",
      " |-- boroughCode: long (nullable = true)\n",
      " |-- coordinates: array (nullable = true)\n",
      " |    |-- element: array (containsNull = true)\n",
      " |    |    |-- element: array (containsNull = true)\n",
      " |    |    |    |-- element: double (containsNull = true)\n",
      " |-- borough_area_code: integer (nullable = false)\n",
      " |-- polygon: string (nullable = true)\n",
      "\n"
     ]
    }
   ],
   "source": [
    "geo_Boroughs_polygon.printSchema()"
   ]
  },
  {
   "cell_type": "code",
   "execution_count": 133,
   "id": "8c84cc7a-30a4-4583-9352-15f8c7fa56af",
   "metadata": {},
   "outputs": [
    {
     "name": "stdout",
     "output_type": "stream",
     "text": [
      "+--------------------+\n",
      "|             polygon|\n",
      "+--------------------+\n",
      "|POLYGON ((-73.836...|\n",
      "|POLYGON ((-73.813...|\n",
      "|POLYGON ((-73.827...|\n",
      "|POLYGON ((-73.826...|\n",
      "|POLYGON ((-73.832...|\n",
      "+--------------------+\n",
      "only showing top 5 rows\n",
      "\n"
     ]
    }
   ],
   "source": [
    "polygoncol = geo_Boroughs_polygon.select('polygon')\n",
    "polygoncol.show(5)"
   ]
  },
  {
   "cell_type": "code",
   "execution_count": 134,
   "id": "320a61f0-f39f-481e-8845-94865872d09c",
   "metadata": {},
   "outputs": [
    {
     "data": {
      "text/plain": [
       "['borough', 'boroughCode', 'coordinates', 'borough_area_code', 'polygon']"
      ]
     },
     "execution_count": 134,
     "metadata": {},
     "output_type": "execute_result"
    }
   ],
   "source": [
    "geo_Boroughs_polygon.columns"
   ]
  },
  {
   "cell_type": "code",
   "execution_count": 135,
   "id": "6fb8b794-c327-4da4-b83e-2a042cc503b2",
   "metadata": {},
   "outputs": [],
   "source": [
    "geo_Boroughs_polygon=geo_Boroughs_polygon.select([\n",
    "    'borough', 'boroughCode', 'borough_area_code', 'polygon']\n",
    ")"
   ]
  },
  {
   "cell_type": "code",
   "execution_count": 136,
   "id": "f6b68424-d3d2-4302-b667-c474f223ef14",
   "metadata": {},
   "outputs": [
    {
     "name": "stdout",
     "output_type": "stream",
     "text": [
      "+-------+-----------+-----------------+--------------------+\n",
      "|borough|boroughCode|borough_area_code|             polygon|\n",
      "+-------+-----------+-----------------+--------------------+\n",
      "| Queens|          4|                5|POLYGON ((-73.836...|\n",
      "+-------+-----------+-----------------+--------------------+\n",
      "only showing top 1 row\n",
      "\n"
     ]
    }
   ],
   "source": [
    "geo_Boroughs_polygon.show(1)"
   ]
  },
  {
   "cell_type": "code",
   "execution_count": 137,
   "id": "bc2ce7fe-6aac-4a59-84f7-08b02d459b6b",
   "metadata": {},
   "outputs": [],
   "source": [
    "geo_Boroughs_polygon.write.option(\"schema\",geo_Boroughs_polygon.schema)\\\n",
    ".option(\"header\",True)\\\n",
    ".csv(\"file:/home/jovyan/work/advanced_big_data/projects/ETL/geoBoroughData2.csv/\")"
   ]
  },
  {
   "cell_type": "code",
   "execution_count": null,
   "id": "b40e93ba-fd4d-47e3-a487-f2b8c132ecbc",
   "metadata": {},
   "outputs": [],
   "source": []
  },
  {
   "cell_type": "code",
   "execution_count": 138,
   "id": "03a0542c-97cf-41ea-b44c-af41b21c842b",
   "metadata": {},
   "outputs": [],
   "source": [
    "spark.stop()"
   ]
  },
  {
   "cell_type": "code",
   "execution_count": null,
   "id": "f18e5bb6-d4e7-43c4-a68d-184537b458f3",
   "metadata": {},
   "outputs": [],
   "source": []
  }
 ],
 "metadata": {
  "kernelspec": {
   "display_name": "Python 3 (ipykernel)",
   "language": "python",
   "name": "python3"
  },
  "language_info": {
   "codemirror_mode": {
    "name": "ipython",
    "version": 3
   },
   "file_extension": ".py",
   "mimetype": "text/x-python",
   "name": "python",
   "nbconvert_exporter": "python",
   "pygments_lexer": "ipython3",
   "version": "3.11.6"
  }
 },
 "nbformat": 4,
 "nbformat_minor": 5
}
